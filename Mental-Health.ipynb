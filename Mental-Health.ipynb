{
 "cells": [
  {
   "cell_type": "markdown",
   "source": [
    "# Mentale Gesundheit: Eine Reise durch die Psyche\n",
    "\n",
    "## Eine Reise durch die Psyche: Wie Daten uns helfen können, mentale Gesundheit zu verstehen\n",
    "\n",
    "## 1 - Einleitung\n",
    "Depressionen, Angstzustände und Stress sind in unserer modernen Gesellschaft allgegenwärtig und betreffen Menschen jeden Alters, Geschlechts und Hintergrunds. Obwohl es viele Ressourcen gibt, die versuchen, das Bewusstsein für diese Themen zu schärfen, bleibt ihre Ursache größtenteils unbekannt. Eine Möglichkeit, mehr über diese Phänomene zu erfahren, besteht darin, die Daten der Depression Anxiety Stress Scales (DASS) zu nutzen, die zwischen 2017 und 2019 gesammelt wurden. Die DASS-Umfrage ist ein standardisierter Fragebogen, der darauf abzielt, Depressionen, Angstzustände und Stress bei Befragten zu messen. Entwickelt wurde der psychometrische Fragebogen von Dr. Peter Lovibond und Dr. Stephen Lovibond und besteht aus 42 Fragen, die jeweils von 1 bis 4 skaliert sind. Die Bewertungsmöglichkeiten sind unten abgebildet und bilden ab, ob die Frage sehr stark auf die befragte Person zutrifft (4 Apply to me very much, or most of the time) oder gar keine Übereinstimmung it der Frage vorhanden ist (1 Did not apply to me at all).\n",
    "\n",
    "![DASS-Skala](db/demo1.png)\n",
    "\n",
    "\n",
    "## 2 - Ziel des Notebooks\n",
    "Analyse der DASS-Umfrageergebnisse und Untersuchung potenzieller Faktoren, die mit Depressionen, Angstzuständen und Stress assoziiert sind. Besonders im Vordergrund stehen Vorurteile, die es gegenüber Depressionen und ähnlichen Krankheiten gibt in Hinblick auf das Geschlecht und die Herkunft. Ist es tatsächlich so, dass Frauen eher an einer Depression leiden? Trifft Menschen mit einem akademischen Abschluss eine Depression seltener, weil er wahrscheinlich ein höheres Gehalt verspricht oder ist das nur Schein? Gibt es einen Zusammenhang zwischen Depressionen und Herkunft? Auf diese und ähnliche Fragen wird in der Analyse eingegangen.\n",
    "\n",
    "## 3 - Methodik\n",
    "\n",
    "Wie bereits unter dem Punkt Einleitung angemerkt, wurden die Daten wurden durch eine Online-Version der DASS-Umfrage von 2017 bis 2019 gesammelt. Dadurch ist ein aussagekräftiges Ergebnis von fast 40.000 Daten entstanden. Ebenfalls schon erwähnt wurde die Skalierung durch die DASS-Umfrage, wodurch eine Bewertung der Ergebnisse ermöglicht wird. Insgesamt standen 42 Fragen zur Verfügung, die durch die Bewertung beantwortet werden mussten. Allerdings wurden nicht nur die Antworten gespeichert, sondern auch einerseits die Geschwindigkeit, in der diese beantwortet wurden und andererseits die Stelle, an der sie gefragt wurden, weil jeder Befragte eine zufällige Anordnung der Fragen erhalten hat. Darauffolgend wurde der TEN-ITEM PERSONALITY INVENTORY-(TIPI) durchgeführt, welcher Persönlichkeitseigenschaften analysiert. Bei dieser Umfrage stehen 10 Charaktereigenschaften zur Verfügung, die erneut skaliert und beantwortet werden müssen, wobei es hier 7 Bewertungsmöglichkeiten gibt.\n",
    "\n",
    "![TIPI](db/TIPI.png)\n",
    "\n",
    "Zuguterletzt wurden die Stammdaten der Teilnehmer befragt, welche Daten wie Geschlecht, Alter, Herkunft enthalten.\n",
    "\n",
    "![Stammdaten](db/Stammdaten.png)\n",
    "\n",
    "Die Umfrage war für jeden offen, und die Teilnehmer waren motiviert, sie auszufüllen, um personalisierte Ergebnisse zu erhalten.\n",
    "Die Daten, die in dieser Analyse verwendet wurden, wurden von Personen gesammelt, die einer Forschungsumfrage zugestimmt und ihre Daten für Forschungszwecke zur Verfügung gestellt haben.\n",
    "Die Analyse wird basierend auf den Antworten zu jeder Frage sowie den demografischen und technischen Informationen durchgeführt, die von den Teilnehmern bereitgestellt wurden.\n",
    "\n",
    "Durch die Analyse der Daten der DASS-Umfrage hoffen wir, Einblicke in die Faktoren zu gewinnen, die mit Depressionen, Angstzuständen und Stress assoziiert sind. Diese Erkenntnisse könnten dazu beitragen, Präventions- und Behandlungsansätze zu entwickeln, um das Leben von Menschen, die von diesen Zuständen betroffen sind, zu verbessern. Idealerweise kann dadurch eine Entstigmatisierung von psychischen Krankheiten erreicht werden.\n",
    "\n",
    "## 4 - Projektstruktur\n",
    "\n",
    "### Setup\n",
    "\n",
    "![Architektur](db/Projekt-Architektur.png)\n",
    "\n",
    "Für das Projekt werden auf den lokalen Rechnern Conda für die Python-Execution, DataSpell als IDE und je nach Projektmitglied teilweise MongoDB Compass oder DataGrip als GUI verwendet, um einen einfacheren Einblick zum Datenbank-Server zu erhalten. Die Datenbank selbst ist eine MongoDB Instanz (NoSQL), welche am FHTW-Server gehostet wird und bekannt für die schnelle, flexible und einfache Verarbeitung von dokumentbasierten Daten ist. Dadurch sind die Daten zentral für alle Teammitglieder zugänglich. Zusätzlich gibt es auf GitHub ein [Repository](https://github.com/wi21b030/Mental-Health), welches alle wichtigen Files sowie dieses Notebook selbst beinhaltet, um allen Mitgliedern des Teams die simultane Bearbeitung zu ermöglichen.\n",
    "\n",
    "### Big Data und Data Handling Layers\n",
    "\n",
    "Die Begründung für die Entscheidungen, welche wir bezüglich der ausgewählten Tools und des Setups für unser Projekt getroffen haben, liegt darin, dass wir den Big Data Anforderungen entsprechen müssen, da wir einen großen Datensatz mit etwa 40000 Reihen und mehr als 170 Spalten an Daten (Volume) haben. Zusätzlich sind die Daten vielfältig (Variety) und semi-strukturiert (CSV-Datensatz) und, weil wir mithilfe der Daten akkurate und wertvolle Aussagen in Bezug auf mentale Gesundheit treffen wollen sind Veracity als auch Value wichtige Faktoren. Velocity betrifft unser Projekt nicht direkt, jedoch garantieren die modernen Tools, welche den Industriestandards entsprechen (NoSQL-Datenbank und Git), dass wir auch zukünftig den Skalierungs-Anforderungen entsprechen werden. Weiters behandeln wir die vier Data Handling Layers, indem wir den Datensatz in der Datenbank in einem standardisierten Format (BSON) speichern, vor aber auch teilweise während der Analyse die Daten bereinigen, dann eben mithilfe von statistischen Methoden analysieren, um Zusammenhänge und Entschlüsse zu ziehen und anschließend mittels Graphiken visualisieren.\n",
    "\n",
    "### Komponente und Versionen\n",
    "\n",
    "- Conda: 22.9\n",
    "- Python: 3.9\n",
    "- Pymongo: 4.3.3\n",
    "- Pandas: 1.4.4\n",
    "- Matplotlib: 3.5.2\n",
    "- Numpy: 1.21.5\n",
    "- GeoPandas: 0.12.2\n",
    "- Seaborn: 0.11.2\n",
    "- PyCountry: 22.3.5"
   ],
   "metadata": {
    "collapsed": false
   }
  },
  {
   "cell_type": "markdown",
   "source": [
    "## 5 - Datenimport und -export"
   ],
   "metadata": {
    "collapsed": false
   }
  },
  {
   "cell_type": "markdown",
   "source": [
    "Bevor wir nun den Datensatz analysieren können, müssen wir die Daten zur Datenbank hochladen, um sie später weiterhin zentral zur Verfügung zu haben. Dafür müssen wir einige Python Packages installieren, die DB-Verbindung einrichten und anschließend den Datensatz in einem Pandas-Dataframe für die weitere Verarbeitung speichern."
   ],
   "metadata": {
    "collapsed": false
   }
  },
  {
   "cell_type": "markdown",
   "source": [
    "### Import von Packages"
   ],
   "metadata": {
    "collapsed": false
   }
  },
  {
   "cell_type": "code",
   "execution_count": null,
   "outputs": [],
   "source": [
    "try:\n",
    "    import pymongo as mdb\n",
    "    import csv\n",
    "    import pandas as pd\n",
    "    import matplotlib.pyplot as plt\n",
    "    import numpy as np\n",
    "    import seaborn as sns\n",
    "except ImportError:\n",
    "    !pip3 install pymongo\n",
    "    !pip3 install python-csv\n",
    "    !pip3 install pandas\n",
    "    !pip3 install numpy\n",
    "    import pymongo as mdb\n",
    "    import csv\n",
    "    import pandas as pd\n",
    "    import matplotlib.pyplot as plt\n",
    "    import numpy as np"
   ],
   "metadata": {
    "collapsed": false
   }
  },
  {
   "cell_type": "markdown",
   "source": [
    "### Die Verbindung zum MongoDB-Server wird eingerichtet"
   ],
   "metadata": {
    "collapsed": false
   }
  },
  {
   "cell_type": "code",
   "execution_count": null,
   "outputs": [],
   "source": [
    "try:\n",
    "    client = mdb.MongoClient(\"mongodb://pt-n20.p4001.w3.cs.technikum-wien.at:4001\")\n",
    "\n",
    "    db = client.mental_health_db\n",
    "    collection = db.survey\n",
    "\n",
    "    if 'mental_health_db' in client.list_database_names():\n",
    "        print('Connected to database')\n",
    "    if 'survey' in db.list_collection_names():\n",
    "        print('Connected to collection')\n",
    "except mdb.errors.ConnectionFailure as e:\n",
    "    print(e)"
   ],
   "metadata": {
    "collapsed": false
   }
  },
  {
   "cell_type": "markdown",
   "source": [
    "### CSV-Datensatz hochladen"
   ],
   "metadata": {
    "collapsed": false
   }
  },
  {
   "cell_type": "markdown",
   "source": [
    "Die Daten wurden mithilfe des Codes, den man darunter sieht, auf den Server hochgeladen und anschließend auskommentiert, damit dies nicht unabsichtlich wieder ausgeführt werden kann."
   ],
   "metadata": {
    "collapsed": false
   }
  },
  {
   "cell_type": "code",
   "execution_count": null,
   "outputs": [],
   "source": [
    "'''data = pd.read_csv('db/data.csv', delimiter='\\t')\n",
    "keys = data.columns.tolist()\n",
    "data_dict = data.to_dict('records')\n",
    "for item in data_dict:\n",
    "    record = {}\n",
    "    for key in keys:\n",
    "        record[key] = item[key]\n",
    "    collection.insert_one(record)'''"
   ],
   "metadata": {
    "collapsed": false
   }
  },
  {
   "cell_type": "markdown",
   "source": [
    "### Daten vom Server abfragen und in Pandas Dataframe speichern"
   ],
   "metadata": {
    "collapsed": false
   }
  },
  {
   "cell_type": "code",
   "execution_count": null,
   "outputs": [],
   "source": [
    "cursor = collection.find({})\n",
    "data = pd.DataFrame(list(cursor))\n",
    "data = data.drop('_id', axis=1)\n",
    "client.close()"
   ],
   "metadata": {
    "collapsed": false
   }
  },
  {
   "cell_type": "markdown",
   "source": [
    "#### Alternativ falls der Server nicht funktioniert von lokaler CSV-Datei abfragen"
   ],
   "metadata": {
    "collapsed": false
   }
  },
  {
   "cell_type": "code",
   "execution_count": null,
   "outputs": [],
   "source": [
    "# data = pd.read_csv('db/data.csv', delimiter='\\t')"
   ],
   "metadata": {
    "collapsed": false
   }
  },
  {
   "cell_type": "markdown",
   "source": [
    "#### Ausgabe des Dataframes"
   ],
   "metadata": {
    "collapsed": false
   }
  },
  {
   "cell_type": "code",
   "execution_count": null,
   "outputs": [],
   "source": [
    "print(data)"
   ],
   "metadata": {
    "collapsed": false
   }
  },
  {
   "cell_type": "markdown",
   "source": [
    "## 6 - Demografische Analyse des Datensatzes"
   ],
   "metadata": {
    "collapsed": false
   }
  },
  {
   "cell_type": "markdown",
   "source": [
    "Wir fangen damit an, den Datensteckbrief zu ermitteln, um einen Überblick zu bekommen."
   ],
   "metadata": {
    "collapsed": false
   }
  },
  {
   "cell_type": "code",
   "execution_count": null,
   "outputs": [],
   "source": [
    "data.info()"
   ],
   "metadata": {
    "collapsed": false
   }
  },
  {
   "cell_type": "code",
   "execution_count": null,
   "outputs": [],
   "source": [
    "data.describe()"
   ],
   "metadata": {
    "collapsed": false
   }
  },
  {
   "cell_type": "markdown",
   "source": [
    "Konkret jedoch wollen wir zuerst wissen, welche Personen haben an dieser Umfrage teilgenommen und welche Merkmale machen diesen Datensatz aus. Dafür verschaffen wir uns einen deskriptiven Überblick zu folgenden Kategorien des Datensatzes:\n",
    "\n",
    "- Ausbildung\n",
    "- Gegend\n",
    "- Geschlecht\n",
    "- Englisch als Muttersprache\n",
    "- Alter\n",
    "- Händigkeit\n",
    "- Religion\n",
    "- Sexuelle Orientation\n",
    "- Ethnie\n",
    "- Gewählt\n",
    "- Verheiratet\n",
    "- Familiengröße\n",
    "- Studienfach"
   ],
   "metadata": {
    "collapsed": false
   }
  },
  {
   "cell_type": "markdown",
   "source": [
    "### Ausbildung"
   ],
   "metadata": {
    "collapsed": false
   }
  },
  {
   "cell_type": "code",
   "execution_count": null,
   "outputs": [],
   "source": [
    "education = data['education'].map({0: 'Nicht Beantwortet', 1: 'Highschool nicht abgeschlossen', 2: 'Highschool', 3: 'Universitäts Abschluss', 4: 'Master Abschluss'})\n",
    "education_percent = education.value_counts(normalize=True) * 100\n",
    "ax = education_percent.plot(kind='bar')\n",
    "ax.set_xlabel('Ausbildung')\n",
    "ax.set_ylabel('Prozent')\n",
    "ax.set_yticklabels(['{:,.1f}%'.format(x) for x in ax.get_yticks()])\n",
    "for i, v in enumerate(education_percent):\n",
    "    ax.text(i, v+0.5, '{:.1f}%'.format(v), ha='center')\n",
    "plt.show()"
   ],
   "metadata": {
    "collapsed": false
   }
  },
  {
   "cell_type": "markdown",
   "source": [
    "Wir sehen, dass ungefähr 38% der Teilnehmer*Innen einen Bachelor-Abschluss, knapp darunter 37.9% einen Highschool-Abschluss, 12.6% einen Master-Abschluss und 10.2% die Highschool nicht abgeschlossen haben. Im Datensatz haben 1.3% jeweils keine Antwort zu dieser Frage gegeben."
   ],
   "metadata": {
    "collapsed": false
   }
  },
  {
   "cell_type": "markdown",
   "source": [
    "### Gegend"
   ],
   "metadata": {
    "collapsed": false
   }
  },
  {
   "cell_type": "code",
   "execution_count": null,
   "outputs": [],
   "source": [
    "urban = data['urban'].map({0: 'Nicht Beantwortet', 1: 'Rural', 2: 'Vorort', 3: 'Stadt'})\n",
    "urban_percent = urban.value_counts(normalize=True) * 100\n",
    "ax = urban_percent.plot(kind='pie', autopct='%.1f%%')\n",
    "ax.set_title('Verteilung der Kategorie Gegend')\n",
    "plt.show()"
   ],
   "metadata": {
    "collapsed": false
   }
  },
  {
   "cell_type": "markdown",
   "source": [
    "Das Diagramm zeigt die prozentuale Verteilung der Antworten auf die Frage nach dem Wohnort. Die größte Gruppe der Befragten (44,9%) lebt in städtischen Gebieten, gefolgt von der Gruppe der Vorortbewohner (33,3%) und der Gruppe der Landbewohner (20,9%). Nur eine sehr kleine Gruppe (1%) hat keine Antwort auf die Frage gegeben."
   ],
   "metadata": {
    "collapsed": false
   }
  },
  {
   "cell_type": "markdown",
   "source": [
    "### Geschlecht"
   ],
   "metadata": {
    "collapsed": false
   }
  },
  {
   "cell_type": "code",
   "execution_count": null,
   "outputs": [],
   "source": [
    "gender = data['gender'].map({0: 'Divers', 1: 'Männlich', 2: 'Weiblich'})\n",
    "gender_percent = gender.value_counts(normalize=True) * 100\n",
    "ax = gender_percent.plot(kind='bar')\n",
    "ax.set_xlabel('Geschlecht')\n",
    "ax.set_ylabel('Prozent')\n",
    "ax.set_yticklabels(['{:,.1f}%'.format(x) for x in ax.get_yticks()])\n",
    "for i, v in enumerate(gender_percent):\n",
    "    ax.text(i, v+0.5, '{:.1f}%'.format(v), ha='center')\n",
    "plt.show()"
   ],
   "metadata": {
    "collapsed": false
   }
  },
  {
   "cell_type": "code",
   "execution_count": null,
   "outputs": [],
   "source": [
    "print(data)"
   ],
   "metadata": {
    "collapsed": false
   }
  },
  {
   "cell_type": "markdown",
   "source": [
    "Überraschenderweise sind 77.4% der Personen, die an der Umfrage teilgenommen haben, Frauen. Im Gegensatz dazu beträgt der Anteil der Männer 22.4% und die der diversen Geschlechter 0.2%."
   ],
   "metadata": {
    "collapsed": false
   }
  },
  {
   "cell_type": "markdown",
   "source": [
    "### Englisch als Muttersprache"
   ],
   "metadata": {
    "collapsed": false
   }
  },
  {
   "cell_type": "code",
   "execution_count": null,
   "outputs": [],
   "source": [
    "engnat = data['engnat'].map({1: 'Ja', 2: 'Nein'})\n",
    "engnat_percent = engnat.value_counts(normalize=True) * 100\n",
    "ax = engnat_percent.plot(kind='pie', autopct='%.1f%%')\n",
    "ax.set_title('Verteilung der nativen englischsprechenden Menschen')\n",
    "plt.show()"
   ],
   "metadata": {
    "collapsed": false
   }
  },
  {
   "cell_type": "markdown",
   "source": [
    "In unserem Datensatz haben 63.8% Englisch nicht als Muttersprache und 36.2% hingegen schon."
   ],
   "metadata": {
    "collapsed": false
   }
  },
  {
   "cell_type": "markdown",
   "source": [
    "### Alter"
   ],
   "metadata": {
    "collapsed": false
   }
  },
  {
   "cell_type": "code",
   "execution_count": null,
   "outputs": [],
   "source": [
    "age_groups = pd.cut(data['age'], bins=[0, 17, 34, 54, 64, 150], labels=['0-17', '18-34', '35-54', '55-64', '65+'])\n",
    "age_group_percent = age_groups.value_counts(normalize=True) * 100\n",
    "ax = age_group_percent.plot(kind='bar')\n",
    "ax.set_xlabel('Alter')\n",
    "ax.set_ylabel('Prozent')\n",
    "ax.set_yticklabels(['{:,.1f}%'.format(x) for x in ax.get_yticks()])\n",
    "for i, v in enumerate(age_group_percent):\n",
    "    ax.text(i, v+0.5, '{:.1f}%'.format(v), ha='center')\n",
    "plt.show()"
   ],
   "metadata": {
    "collapsed": false
   }
  },
  {
   "cell_type": "markdown",
   "source": [
    "Wir gruppieren das Alter sinnvoll und erhalten folgende Prozentsätze für die Altersgruppen:\n",
    "\n",
    "- 0-17: 18.3%\n",
    "- 18-34: 72.9%\n",
    "- 35-54: 7.3%\n",
    "- 55-64: 1.3%\n",
    "- 65+: 0.3%"
   ],
   "metadata": {
    "collapsed": false
   }
  },
  {
   "cell_type": "markdown",
   "source": [
    "### Händigkeit\n",
    "Es wird untersucht, wie viel Prozent der Befragten Linkshänder, Rechtshänder beziehungsweise beidhändig sind. In einem ersten Schritt werden die Daten einfach ausgegeben."
   ],
   "metadata": {
    "collapsed": false
   }
  },
  {
   "cell_type": "code",
   "execution_count": null,
   "outputs": [],
   "source": [
    "hand = data['hand'].map({2:'Linkshänder',1:'Rechtshänder',3:'Beidhändig'})\n",
    "hand_percent=hand.value_counts(normalize=True)*100\n",
    "print(hand_percent)"
   ],
   "metadata": {
    "collapsed": false
   }
  },
  {
   "cell_type": "markdown",
   "source": [
    "In einem zweiten Schritt wird zur Veranschaulichung ein Balkendiagramm erstellt, welches das Verhältnis zwischen Linkshändern,\n",
    "Rechtshändern und Beidhändigen aufzeigt."
   ],
   "metadata": {
    "collapsed": false
   }
  },
  {
   "cell_type": "code",
   "execution_count": null,
   "outputs": [],
   "source": [
    "labels = ['Linkshänder', 'Rechtshänder', 'Beidhändig']\n",
    "values = [hand_percent.Linkshänder, hand_percent.Rechtshänder, hand_percent.Beidhändig]\n",
    "plt.bar(labels, values)\n",
    "plt.title('Händigkeit')\n",
    "plt.xlabel('Hand')\n",
    "plt.ylabel('Prozent')\n",
    "plt.show()"
   ],
   "metadata": {
    "collapsed": false
   }
  },
  {
   "cell_type": "markdown",
   "source": [
    "### Religion\n",
    "Es wird untersucht, wie das Religionsbekenntnis unter den Befragten verteilt ist. In einem ersten Schritt werden die Daten einfach ausgegeben."
   ],
   "metadata": {
    "collapsed": false
   }
  },
  {
   "cell_type": "code",
   "execution_count": null,
   "outputs": [],
   "source": [
    "religions = data['religion'].map({0:'Nicht Beantwortet', 1:'Agnostizismus',2:'Atheismus', 3:'Buddhismus', 4:'Christentum (Katholisch)',\n",
    "            5:'Christentum (Mormonen)',6: 'Christentum (Protestanten)', 7:'Christentum (Anderes)', 8:'Hinduismus',9: 'Judentum', 10:'Islam', 11:'Sikhismus',12: 'Andere'})\n",
    "rel_percent=religions.value_counts(normalize=True)*100\n",
    "print(rel_percent)"
   ],
   "metadata": {
    "collapsed": false
   }
  },
  {
   "cell_type": "markdown",
   "source": [
    "In einem zweiten Schritt wird zur Veranschaulichung ein Kreisdiagramm erstellt, was das Verhältnis der einzelnen Religionen zueinander unter den Befragten aufzeigt."
   ],
   "metadata": {
    "collapsed": false
   }
  },
  {
   "cell_type": "code",
   "execution_count": null,
   "outputs": [],
   "source": [
    "plt.pie(rel_percent, labels=rel_percent.index, autopct='%1.2f%%', textprops={'fontsize': 12})\n",
    "plt.legend(bbox_to_anchor=(2.2,0.5), loc=\"center right\", fontsize=12)\n",
    "plt.title('Religionen')\n",
    "plt.show()"
   ],
   "metadata": {
    "collapsed": false
   }
  },
  {
   "cell_type": "markdown",
   "source": [
    "### Sexuelle Orientierung\n",
    "Es wird untersucht, wie die sexuelle Orientierung unter den Befragten verteilt ist. In einem ersten Schritt werden die Daten einfach ausgegeben."
   ],
   "metadata": {
    "collapsed": false
   }
  },
  {
   "cell_type": "code",
   "execution_count": null,
   "outputs": [],
   "source": [
    "orientations = data['orientation'].map({0:'Nicht beantwortet',1:'Heterosexuell', 2:'Bisexuell',3: 'Homosexuell',4: 'Asexuell',5: 'Anderes'})\n",
    "orientations_percent=orientations.value_counts(normalize=True)*100\n",
    "print(orientations_percent)"
   ],
   "metadata": {
    "collapsed": false
   }
  },
  {
   "cell_type": "markdown",
   "source": [
    "In einem zweiten Schritt wird zur Veranschaulichung ein Kreisdiagramm erstellt, welches das Verhältnis der einzelnen Religionen zueinander unter den Befragten aufzeigt."
   ],
   "metadata": {
    "collapsed": false
   }
  },
  {
   "cell_type": "code",
   "execution_count": null,
   "outputs": [],
   "source": [
    "\n",
    "values = [orientations_percent.Heterosexuell,orientations_percent.Bisexuell, orientations_percent.Homosexuell, orientations_percent.Asexuell,orientations_percent.Anderes]\n",
    "labels=['Heterosexuell','Bisexuell','Homosexuell','Asexuell','Anderes']\n",
    "fig1, ax1 = plt.subplots()\n",
    "ax1.pie(values,  labels=labels,autopct='%1.1f%%', startangle=90)\n",
    "ax1.axis('equal')  # Equal aspect ratio ensures that pie is drawn as a circle.\n",
    "plt.title('Sexuelle Orientierung')\n",
    "plt.show()"
   ],
   "metadata": {
    "collapsed": false
   }
  },
  {
   "cell_type": "markdown",
   "source": [
    "### Ethnische Gruppen\n",
    "Es wird untersucht, was für eine Verteilung der ethnischen Gruppen vorliegt. In einem ersten Schritt werden die Daten einfach ausgegeben."
   ],
   "metadata": {
    "collapsed": false
   }
  },
  {
   "cell_type": "code",
   "execution_count": null,
   "outputs": [],
   "source": [
    "races = data['race'].map({10: \"Asiaten\", 20: \"Araber\", 30: \"Schwarze\", 40: \"IndigeneBevölkerungAustraliens\", 50: \"IndigeneBevölkerungAmerikas\", 60: \"Weiße\", 70: \"Anderes\"})\n",
    "races_percent=races.value_counts(normalize=True)*100\n",
    "print(races_percent)"
   ],
   "metadata": {
    "collapsed": false
   }
  },
  {
   "cell_type": "markdown",
   "source": [
    "In einem zweiten Schritt wird zur Veranschaulichung ein Balkendiagramm erstellt, welches das Verhältnis der einzelnen Ethnischen Gruppen zueinander unter den Befragten aufzeigt."
   ],
   "metadata": {
    "collapsed": false
   }
  },
  {
   "cell_type": "code",
   "execution_count": null,
   "outputs": [],
   "source": [
    "labels = ['Asiaten','Araber','Schwarze','Indigene Bevölkerung Australiens','Indigene Bevölkerung  Amerikas','Weiße', 'Anderes']\n",
    "values = [races_percent.Asiaten,races_percent.Araber, races_percent.Schwarze, races_percent.IndigeneBevölkerungAustraliens,\n",
    "          races_percent.IndigeneBevölkerungAmerikas, races_percent.Weiße,races_percent.Anderes]\n",
    "plt.bar(labels, values)\n",
    "plt.xlabel(\"Ethnische Gruppe\")\n",
    "plt.ylabel(\"Prozent\")\n",
    "plt.title(\"Verteilung Ethnischer Gruppen\")\n",
    "plt.xticks(rotation=45, ha='right')\n",
    "plt.show()"
   ],
   "metadata": {
    "collapsed": false
   }
  },
  {
   "cell_type": "code",
   "execution_count": null,
   "outputs": [],
   "source": [
    "voted = data['voted']\n",
    "unique_values_voted = list(set(voted))\n",
    "print(unique_values_voted)"
   ],
   "metadata": {
    "collapsed": false
   }
  },
  {
   "cell_type": "code",
   "execution_count": null,
   "outputs": [],
   "source": [
    "value_counts_voted =voted.value_counts()"
   ],
   "metadata": {
    "collapsed": false
   }
  },
  {
   "cell_type": "code",
   "execution_count": null,
   "outputs": [],
   "source": [
    "for value, count in value_counts_voted.items():\n",
    "    print(f'{value}: {count}')"
   ],
   "metadata": {
    "collapsed": false
   }
  },
  {
   "cell_type": "code",
   "execution_count": null,
   "outputs": [],
   "source": [
    "value_counts_voted = voted.value_counts()\n",
    "plt.pie(value_counts_voted, labels=['No','Yes','Did Not Answer'], autopct='%1.1f%%',colors=['red','cyan','violet'])\n",
    "plt.show()"
   ],
   "metadata": {
    "collapsed": false
   }
  },
  {
   "cell_type": "code",
   "execution_count": null,
   "outputs": [],
   "source": [
    "married = data['married'].dropna()\n",
    "unique_values_married = list(set(married))\n",
    "print(unique_values_married)\n"
   ],
   "metadata": {
    "collapsed": false
   }
  },
  {
   "cell_type": "code",
   "execution_count": null,
   "outputs": [],
   "source": [
    "value_counts_married = married.value_counts()"
   ],
   "metadata": {
    "collapsed": false
   }
  },
  {
   "cell_type": "code",
   "execution_count": null,
   "outputs": [],
   "source": [
    "for value, count in value_counts_married.items():\n",
    "    print(f'{value} : {count}')"
   ],
   "metadata": {
    "collapsed": false
   }
  },
  {
   "cell_type": "code",
   "execution_count": null,
   "outputs": [],
   "source": [
    "married_dict = {0: 'Did Not Answer', 1: 'Never married', 2: 'Currently married', 3: 'Previously married'}\n",
    "\n",
    "married_legend = data['married'].replace(married_dict)\n",
    "\n",
    "married_counts = married_legend.value_counts()\n",
    "\n",
    "married_percent = married_counts * 100 / married_counts.sum()\n",
    "\n",
    "ax = married_percent.plot(kind='bar', color=['red','orange','cyan','grey'])\n",
    "ax.set_xlabel('Marital Status')\n",
    "ax.set_ylabel('Percentage')\n",
    "ax.set_yticks(range(0, 101, 10))\n",
    "ax.set_yticklabels(['{:,.1f}%'.format(x) for x in range(0, 101, 10)])\n",
    "for i, v in enumerate(married_percent):\n",
    "    ax.text(i, v+0.5, '{:.1f}%'.format(v), ha='center')\n",
    "plt.show()\n"
   ],
   "metadata": {
    "collapsed": false
   }
  },
  {
   "cell_type": "code",
   "execution_count": null,
   "outputs": [],
   "source": [
    "family_size = data['familysize'].dropna()\n",
    "\n",
    "family_size = family_size.apply(lambda x: '8+' if isinstance(x, int) and x >= 8 else str(x))\n",
    "\n",
    "labels = ['0', '1', '2', '3', '4', '5', '6', '7', '8+']\n",
    "plt.pie(family_size.value_counts(), labels=labels, autopct='%1.1f%%', colors=['grey', 'cyan', 'violet', 'red', 'orange', 'blue', 'pink', 'green', 'brown'])\n",
    "plt.title('Family Size Distribution')\n",
    "plt.show()\n"
   ],
   "metadata": {
    "collapsed": false
   }
  },
  {
   "cell_type": "code",
   "execution_count": null,
   "outputs": [],
   "source": [
    "#major = data['major']\n",
    "#unique_values_major = list(set(major))\n",
    "#print(unique_values_major)\n",
    "# - Wir sehen, dass die Daten nicht vollständig sind und man kann nur mit Nan und nicht nan Werte eine Analyse machen"
   ],
   "metadata": {
    "collapsed": false
   }
  },
  {
   "cell_type": "code",
   "execution_count": null,
   "outputs": [],
   "source": [
    "data['major_category'] = data['major'].apply(lambda x: 'Non-NaN' if x is not None and x == x else 'NaN')\n",
    "\n",
    "major_counts = data['major_category'].value_counts()\n",
    "\n",
    "major_percent = major_counts * 100 / major_counts.sum()\n",
    "\n",
    "major_percent.plot(kind='pie', autopct='%1.1f%%')\n",
    "plt.title('Non-NaN and NaN values in Major')\n",
    "plt.ylabel('')\n",
    "plt.show()"
   ],
   "metadata": {
    "collapsed": false
   }
  },
  {
   "cell_type": "markdown",
   "source": [
    "## DASS-Scores berechnen"
   ],
   "metadata": {
    "collapsed": false
   }
  },
  {
   "cell_type": "markdown",
   "source": [
    "Im folgenden Schritt berechnen wir die jeweiligen Werte für Depression, Anxiety und Stress für alle Personen des Datensatzen und fügen diese, als auch unter welchem Level diese fallen als zusätzliche Spalten ein.\n",
    "\n",
    "**Hinweis**: Da ursprünglich der DASS-Test Werte von 0-3 als Antwortmöglichkeit anbietet, bei unserem Datensatz jedoch Werte von 1-4 aufgenommen wurden, wurde im letzten Schritt von jeder Kategorie 14 abgezogen und korrekt angepasst, da es 14 Fragen pro Kategorie gibt."
   ],
   "metadata": {
    "collapsed": false
   }
  },
  {
   "cell_type": "code",
   "execution_count": null,
   "outputs": [],
   "source": [
    "question_category_map = {\n",
    "    'Q3A': 'Depression',\n",
    "    'Q5A': 'Depression',\n",
    "    'Q10A': 'Depression',\n",
    "    'Q13A': 'Depression',\n",
    "    'Q16A': 'Depression',\n",
    "    'Q17A': 'Depression',\n",
    "    'Q21A': 'Depression',\n",
    "    'Q24A': 'Depression',\n",
    "    'Q26A': 'Depression',\n",
    "    'Q31A': 'Depression',\n",
    "    'Q34A': 'Depression',\n",
    "    'Q37A': 'Depression',\n",
    "    'Q38A': 'Depression',\n",
    "    'Q42A': 'Depression',\n",
    "    'Q2A': 'Anxiety',\n",
    "    'Q4A': 'Anxiety',\n",
    "    'Q7A': 'Anxiety',\n",
    "    'Q9A': 'Anxiety',\n",
    "    'Q15A': 'Anxiety',\n",
    "    'Q19A': 'Anxiety',\n",
    "    'Q20A': 'Anxiety',\n",
    "    'Q23A': 'Anxiety',\n",
    "    'Q25A': 'Anxiety',\n",
    "    'Q28A': 'Anxiety',\n",
    "    'Q30A': 'Anxiety',\n",
    "    'Q36A': 'Anxiety',\n",
    "    'Q40A': 'Anxiety',\n",
    "    'Q41A': 'Anxiety',\n",
    "    'Q1A': 'Stress',\n",
    "    'Q6A': 'Stress',\n",
    "    'Q8A': 'Stress',\n",
    "    'Q11A': 'Stress',\n",
    "    'Q12A': 'Stress',\n",
    "    'Q14A': 'Stress',\n",
    "    'Q18A': 'Stress',\n",
    "    'Q22A': 'Stress',\n",
    "    'Q27A': 'Stress',\n",
    "    'Q29A': 'Stress',\n",
    "    'Q32A': 'Stress',\n",
    "    'Q33A': 'Stress',\n",
    "    'Q35A': 'Stress',\n",
    "    'Q39A': 'Stress'\n",
    "}\n",
    "\n",
    "depression_cols = ['Q3A', 'Q5A', 'Q10A', 'Q13A', 'Q16A', 'Q17A', 'Q21A', 'Q24A', 'Q26A', 'Q31A', 'Q34A', 'Q37A', 'Q38A', 'Q42A']\n",
    "anxiety_cols = ['Q2A', 'Q4A', 'Q7A', 'Q9A', 'Q15A', 'Q19A', 'Q20A', 'Q23A', 'Q25A', 'Q28A', 'Q30A', 'Q36A', 'Q40A', 'Q41A']\n",
    "stress_cols = ['Q1A', 'Q6A', 'Q8A', 'Q11A', 'Q12A', 'Q14A', 'Q18A', 'Q22A', 'Q27A', 'Q29A', 'Q32A', 'Q33A', 'Q35A', 'Q39A']\n",
    "\n",
    "columns_check = ['Depression','Anxiety','Stress','Depression Category','Anxiety Category','Stress Category']\n",
    "for column in columns_check:\n",
    "    if column not in data.columns:\n",
    "        data['Depression'] = data[depression_cols].sum(axis=1)-14\n",
    "        data['Anxiety'] = data[anxiety_cols].sum(axis=1)-14\n",
    "        data['Stress'] = data[stress_cols].sum(axis=1)-14\n",
    "        data['Depression Category'] = pd.cut(data['Depression'], bins=[-1, 9, 13, 20, 27, float('inf')], labels=['Normal', 'Mild', 'Moderate', 'Severe', 'Extremely Severe'])\n",
    "        data['Anxiety Category'] = pd.cut(data['Anxiety'], bins=[-1, 7, 9, 14, 19, float('inf')], labels=['Normal', 'Mild', 'Moderate', 'Severe', 'Extremely Severe'])\n",
    "        data['Stress Category'] = pd.cut(data['Stress'], bins=[-1, 14, 18, 25, 33, float('inf')], labels=['Normal', 'Mild', 'Moderate', 'Severe', 'Extremely Severe'])"
   ],
   "metadata": {
    "collapsed": false
   }
  },
  {
   "cell_type": "markdown",
   "source": [
    "## 7 - Explorative Analyse"
   ],
   "metadata": {
    "collapsed": false
   }
  },
  {
   "cell_type": "markdown",
   "source": [
    "Uns interessieren vor allem die Zusammenhänge der DASS-Scores in Bezug auf folgende Faktoren:\n",
    "\n",
    "- Geschlecht\n",
    "- Sexuelle Orientation\n",
    "- Religion\n",
    "- Ethnie\n",
    "- Nationalität\n",
    "- Alter\n",
    "- Ausbildung\n",
    "\n",
    "Wir werden die Daten mittels Graphiken näher analysieren, vergleichen und versuchen Zusammenhänge zu finden."
   ],
   "metadata": {
    "collapsed": false
   }
  },
  {
   "cell_type": "markdown",
   "source": [
    "#### 7.3 - Religion"
   ],
   "metadata": {
    "collapsed": false
   }
  },
  {
   "cell_type": "code",
   "execution_count": null,
   "outputs": [],
   "source": [
    "religion_depression_counts = data.groupby([religions, 'Depression Category']).size().unstack()\n",
    "num_rows = (len(religion_depression_counts) + 2) // 3\n",
    "fig, axes = plt.subplots(nrows=num_rows, ncols=3, figsize=(12, num_rows * 4))\n",
    "\n",
    "for i, religion in enumerate(religion_depression_counts.index):\n",
    "    counts = religion_depression_counts.loc[religion]\n",
    "    row = i // 3\n",
    "    col = i % 3\n",
    "    axes[row, col].pie(counts, labels=counts.index, autopct='%1.1f%%')\n",
    "    axes[row, col].set_title(f'{religion} Depressions Verteilung')\n",
    "    axes[row, col].axis('equal')\n",
    "\n",
    "for i in range(len(religion_depression_counts), num_rows * 3):\n",
    "    row = i // 3\n",
    "    col = i % 3\n",
    "    fig.delaxes(axes[row, col])\n",
    "\n",
    "fig.tight_layout()\n",
    "plt.show()"
   ],
   "metadata": {
    "collapsed": false
   }
  },
  {
   "cell_type": "markdown",
   "source": [
    "Wenn man sich nun die diese Diagramme anschaut erhalten wir folgende Top 3 für die Religionen mit dem höchsten relativen Anteil an Menschen, die an schwerer oder extrem schwerer Depression leiden:\n",
    "\n",
    "- Atheismus: 60.3%\n",
    "- Nicht Beantwortet: 59.6%\n",
    "- Agnostizismus: 58.3%\n",
    "\n",
    "Interessanterweise gibt es nur vier Religionen, bei denen der Anteil bei unter 50% liegt. Diese sind:\n",
    "\n",
    "- Buddhismus: 42.2%\n",
    "- Christentum (Protestanten): 45.5%\n",
    "- Islam: 47.3%\n",
    "- Hinduismus: 47.8%\n",
    "\n",
    "Die Ergebnisse zeigen, dass Menschen mit einer atheistischen, nicht beantworteten oder agnostischen Weltanschauung tendenziell häufiger von schweren oder extremen Depressionen betroffen sind als Menschen, die dem Buddhismus, Christentum (Protestanten), Islam oder Hinduismus angehören. Allerdings bedeutet dies nicht zwangsläufig, dass die Religion selbst die Ursache für die höhere Prävalenz von Depressionen ist, da andere Faktoren eine Rolle spielen könnten."
   ],
   "metadata": {
    "collapsed": false
   }
  },
  {
   "cell_type": "code",
   "execution_count": null,
   "outputs": [],
   "source": [
    "religion_anxiety_counts = data.groupby([religions, 'Anxiety Category']).size().unstack()\n",
    "num_rows = (len(religion_anxiety_counts) + 2) // 3\n",
    "fig, axes = plt.subplots(nrows=num_rows, ncols=3, figsize=(12, num_rows * 4))\n",
    "\n",
    "for i, religion in enumerate(religion_anxiety_counts.index):\n",
    "    counts = religion_anxiety_counts.loc[religion]\n",
    "    row = i // 3\n",
    "    col = i % 3\n",
    "    axes[row, col].pie(counts, labels=counts.index, autopct='%1.1f%%')\n",
    "    axes[row, col].set_title(f'{religion} Anxiety Verteilung')\n",
    "    axes[row, col].axis('equal')\n",
    "\n",
    "for i in range(len(religion_anxiety_counts), num_rows * 3):\n",
    "    row = i // 3\n",
    "    col = i % 3\n",
    "    fig.delaxes(axes[row, col])\n",
    "\n",
    "fig.tight_layout()\n",
    "plt.show()"
   ],
   "metadata": {
    "collapsed": false
   }
  },
  {
   "cell_type": "markdown",
   "source": [
    "Wenn man sich nun die diese Diagramme anschaut erhalten wir folgende Top 3 für die Religionen mit dem höchsten relativen Anteil an Menschen, die an schwerer oder extrem schwerer Anxiety leiden:\n",
    "\n",
    "- Nicht Beantwortet: 55.9%\n",
    "- Christentum (Mormonen): 54.1%\n",
    "- Andere: 53.8%\n",
    "\n",
    "Die Bottom 3 sind:\n",
    "\n",
    "- Christentum (Protestanten): 40%\n",
    "- Buddhismus: 41.4%\n",
    "- Hinduismus: 47.3%\n",
    "\n",
    "Bei der Anxiety scheinen Menschen, die sich zu Mormonen zugehörig fühlen unter allen Religionen am meisten unter schwerer oder extrem schwerer Anxiety zu leiden als im Gegenzug die Protestanten, Buddhisten und Hindus."
   ],
   "metadata": {
    "collapsed": false
   }
  },
  {
   "cell_type": "code",
   "execution_count": null,
   "outputs": [],
   "source": [
    "religion_stress_counts = data.groupby([religions, 'Stress Category']).size().unstack()\n",
    "num_rows = (len(religion_stress_counts) + 2) // 3\n",
    "fig, axes = plt.subplots(nrows=num_rows, ncols=3, figsize=(12, num_rows * 4))\n",
    "\n",
    "for i, religion in enumerate(religion_stress_counts.index):\n",
    "    counts = religion_stress_counts.loc[religion]\n",
    "    row = i // 3\n",
    "    col = i % 3\n",
    "    axes[row, col].pie(counts, labels=counts.index, autopct='%1.1f%%')\n",
    "    axes[row, col].set_title(f'{religion} Stress Verteilung')\n",
    "    axes[row, col].axis('equal')\n",
    "\n",
    "for i in range(len(religion_stress_counts), num_rows * 3):\n",
    "    row = i // 3\n",
    "    col = i % 3\n",
    "    fig.delaxes(axes[row, col])\n",
    "\n",
    "fig.tight_layout()\n",
    "plt.show()"
   ],
   "metadata": {
    "collapsed": false
   }
  },
  {
   "cell_type": "markdown",
   "source": [
    "Wenn man sich nun die diese Diagramme anschaut erhalten wir folgende Top 3 für die Religionen mit dem höchsten relativen Anteil an Menschen, die an starkem oder extrem starken Stress leiden:\n",
    "\n",
    "- Christentum (Mormonen): 50.8%\n",
    "- Nicht Beantwortet: 43.5%\n",
    "- Andere: 42.4%\n",
    "\n",
    "Die Bottom 3 sind:\n",
    "\n",
    "- Buddhismus: 29.2%\n",
    "- Christentum (Protestanten): 31%\n",
    "- Hinduismus: 33.6%"
   ],
   "metadata": {
    "collapsed": false
   }
  },
  {
   "cell_type": "markdown",
   "source": [
    "In allen drei Kategorien (Depression, Anxiety, Stress) scheinen Buddhisten, Protestanten und Hindus am wenigsten an schweren oder extremst schweren Symptomen zu leiden. Wohingegen Mormonen sowohl bei Anxiety als auch Stress beide Male in der Top 3 sind. Um jedoch tatsächliche Aussagen in der Allgemeinheit formulieren zu können, würden wir dennoch weitere Daten erheben und anschließend Hypothesentests ausführen müssen, da einige Religionsgruppen in sehr geringer Anzahl in diesem Datensatz vertreten sind."
   ],
   "metadata": {
    "collapsed": false
   }
  },
  {
   "cell_type": "markdown",
   "source": [
    "#### 7.4 - Ethnie"
   ],
   "metadata": {
    "collapsed": false
   }
  },
  {
   "cell_type": "markdown",
   "source": [
    "Interessant ist auch die Analyse der DASS-Scores nach Ethnie:"
   ],
   "metadata": {
    "collapsed": false
   }
  },
  {
   "cell_type": "code",
   "execution_count": null,
   "outputs": [],
   "source": [
    "races_data = data.copy()\n",
    "races_data['race'] = races\n",
    "races_data.boxplot(column='Depression', by='race', figsize=(10,6), vert=False)\n",
    "plt.title('Depression nach Ethnie')\n",
    "plt.xlabel('Ethnie')\n",
    "plt.ylabel('Depressionswert nach DASS-Score')\n",
    "plt.show()"
   ],
   "metadata": {
    "collapsed": false
   }
  },
  {
   "cell_type": "markdown",
   "source": [
    "Wir erkennen, dass sowohl die Boxplots selbst als auch die Mediane von Arabern und indigenen Amerikanern deutlich nach rechts verschoben sind. Im Gegensatz dazu befindet sich der Boxplot und der Median der Asiaten am ehesten nach links. Allgemein scheint es bei keiner Gruppe mehr als 25% an Menschen zu geben die laut dem DASS-Score als \"Normal\" eingestuft werden. Dies könnte darauf deuten, dass bis zu 75% der Menschen dieses Datensatzes mindestens an einer milden bis extrem starken Depression leiden könnten."
   ],
   "metadata": {
    "collapsed": false
   }
  },
  {
   "cell_type": "code",
   "execution_count": null,
   "outputs": [],
   "source": [
    "races_data.boxplot(column='Anxiety', by='race', figsize=(10,6), vert=False)\n",
    "plt.title('Anxiety nach Ethnie')\n",
    "plt.xlabel('Ethnie')\n",
    "plt.ylabel('Anxiety-Wert nach DASS-Score')\n",
    "plt.show()"
   ],
   "metadata": {
    "collapsed": false
   }
  },
  {
   "cell_type": "markdown",
   "source": [
    "Im Falle der Anxiety scheinen die indigenen Bevölkerungen von jeweils Amerika und Australien höhere Werte zu haben. Vor allem der Median der indigenen Amerikaner liegt bei ungefähr 20 und deutet darauf hin, dass 50% an schwerer Anxiety leiden und dass nur bis zu 25% an keiner Form von Anxiety leiden und als \"Normal\" eingestuft werden könnten."
   ],
   "metadata": {
    "collapsed": false
   }
  },
  {
   "cell_type": "code",
   "execution_count": null,
   "outputs": [],
   "source": [
    "races_data.boxplot(column='Stress', by='race', figsize=(10,6), vert=False)\n",
    "plt.title('Stress nach Ethnie')\n",
    "plt.xlabel('Ethnie')\n",
    "plt.ylabel('Stress-Wert nach DASS-Score')\n",
    "plt.show()"
   ],
   "metadata": {
    "collapsed": false
   }
  },
  {
   "cell_type": "markdown",
   "source": [
    "Stress belastet wie wir der Graphik entnehmen können die indigenen Amerikaner und Araber am meisten. Beide Mediane liegen beim Wert 26 - der Wert, ab dem man als schwer gestresst bewertet wird. Im Gegensatz dazu ist der Median der Asiaten am geringsten. Interessant ist auch, dass die Whiskers des Boxplots der indigenen Australier deutlich näher beieinander liegen, dies und die Tatsache, dass ihr Median auch relativ hoch ist, bedeutet, dass besonders viele Menschen hohe Stress-Werte vorweisen."
   ],
   "metadata": {
    "collapsed": false
   }
  },
  {
   "cell_type": "code",
   "execution_count": null,
   "outputs": [],
   "source": [
    "print(data['Depression'])"
   ],
   "metadata": {
    "collapsed": false
   }
  },
  {
   "cell_type": "code",
   "execution_count": null,
   "outputs": [],
   "source": [
    "data['Depression Category'] = pd.cut(data['Depression'], bins=[-1, 9, 13, 20, 27, float('inf')], labels=['Normal', 'Mild', 'Moderate', 'Severe', 'Extremely Severe'])\n",
    "data['Anxiety Category'] = pd.cut(data['Anxiety'], bins=[-1, 7, 9, 14, 19, float('inf')], labels=['Normal', 'Mild', 'Moderate', 'Severe', 'Extremely Severe'])\n",
    "data['Stress Category'] = pd.cut(data['Stress'], bins=[-1, 14, 18, 25, 33, float('inf')], labels=['Normal', 'Mild', 'Moderate', 'Severe', 'Extremely Severe'])\n",
    "print(data['Stress Category'])"
   ],
   "metadata": {
    "collapsed": false
   }
  },
  {
   "cell_type": "code",
   "execution_count": null,
   "outputs": [],
   "source": [
    "categories = ['Normal', 'Mild', 'Moderate', 'Severe', 'Extremely Severe']\n",
    "depression_categories = pd.cut(data['Depression'], [0, 9, 13, 20, 27, float('inf')], labels=categories)\n",
    "anxiety_categories = pd.cut(data['Anxiety'], [0, 7, 9, 14, 19, float('inf')], labels=categories)\n",
    "stress_categories = pd.cut(data['Stress'], [0, 14, 18, 25, 33, float('inf')], labels=categories)\n",
    "\n",
    "# Tabelle mit den Anzahl der Befragten in jeder Kategorie\n",
    "category_counts = pd.DataFrame({\n",
    "    'Depression': depression_categories.value_counts(),\n",
    "    'Anxiety': anxiety_categories.value_counts(),\n",
    "    'Stress': stress_categories.value_counts()\n",
    "})\n",
    "print(category_counts)"
   ],
   "metadata": {
    "collapsed": false
   }
  },
  {
   "cell_type": "markdown",
   "source": [],
   "metadata": {
    "collapsed": false
   }
  },
  {
   "cell_type": "markdown",
   "source": [
    "## Verteilung der Geschlechter innerhalb einzelner Kategorien"
   ],
   "metadata": {
    "collapsed": false
   }
  },
  {
   "cell_type": "code",
   "execution_count": null,
   "outputs": [],
   "source": [
    "gender_depression_counts=data.groupby([gender,'Depression Category']).size().unstack()\n",
    "#gender_depression_counts = (data.groupby([gender,'Stress Category']).size().unstack() / len(data)) * 100\n",
    "gender_depression_counts"
   ],
   "metadata": {
    "collapsed": false
   }
  },
  {
   "cell_type": "code",
   "execution_count": null,
   "outputs": [],
   "source": [
    "gender_stress_counts=data.groupby([gender,'Stress Category']).size().unstack()\n",
    "#gender_stress_counts = (data.groupby([gender,'Stress Category']).size().unstack() / len(data)) * 100\n",
    "gender_stress_counts"
   ],
   "metadata": {
    "collapsed": false
   }
  },
  {
   "cell_type": "code",
   "execution_count": null,
   "outputs": [],
   "source": [
    "gender_anxiety_counts=data.groupby([gender,'Anxiety Category']).size().unstack()\n",
    "gender_anxiety_counts = (data.groupby([gender,'Anxiety Category']).size().unstack() / len(data)) * 100\n",
    "#gender_anxiety_counts['Total'] = gender_anxiety_counts.sum(axis=1)\n",
    "#gender_anxiety_counts.loc['Total',:] = gender_anxiety_counts.sum(axis=0)\n",
    "gender_anxiety_counts\n"
   ],
   "metadata": {
    "collapsed": false
   }
  },
  {
   "cell_type": "markdown",
   "source": [
    "### Kurzbeschreibung:\n",
    "Die Tabelle zeigt die Verteilung der Geschlechter je Kategorie in Prozent.\n",
    "### Auffälligkeiten:\n",
    "Es wirkt anhand der Tabellen so, als würden Frauen eher unter Depressionen, Angstzuständen und Stress leiden. Es soll an dieser Stelle allerdings angemerkt werden, dass die Anzahl an Frauen innerhalb der Kategorien deutlich höher ist als innerhalb anderer Kategorien, weil die Frauen auch in einem viel höheren Maß an der Umfrage teilgenommen haben. Vergleicht man allerdings Männer und Frauen, so erweckt es dennoch den Anschein, als würden Männer seltener an psychischen Krankheiten leiden. Dies wird unten nochmals genauer analysiert werden.\n"
   ],
   "metadata": {
    "collapsed": false
   }
  },
  {
   "cell_type": "code",
   "execution_count": null,
   "outputs": [],
   "source": [
    "orientations_depression_counts=data.groupby([orientations,'Depression Category']).size().unstack()\n",
    "orientations_stress_counts=data.groupby([orientations,'Stress Category']).size().unstack()\n",
    "orientations_anxiety_counts=data.groupby([orientations,'Anxiety Category']).size().unstack()\n",
    "orientations_depression_counts"
   ],
   "metadata": {
    "collapsed": false
   }
  },
  {
   "cell_type": "code",
   "execution_count": null,
   "outputs": [],
   "source": [
    "orientations_stress_counts"
   ],
   "metadata": {
    "collapsed": false
   }
  },
  {
   "cell_type": "code",
   "execution_count": null,
   "outputs": [],
   "source": [
    "orientations_anxiety_counts"
   ],
   "metadata": {
    "collapsed": false
   }
  },
  {
   "cell_type": "markdown",
   "source": [
    "### Kurzbeschreibung:\n",
    "Analog zu den Geschlechtern, wurde nun eine Tabelle zu der Verteilung der Sexuellen Orientierung innerhalb der einzelnen Kategorien gemacht.\n",
    "### Auffälligkeiten:\n",
    "Bedenkt man, dass diverse Menschen unter den Befragten, die geringste gruppe ausmachen, so ist auffällig, dass die Werte verhältnismäßig relativ hoch sind. Dies wird unten nochmals genauer thematisiert werden, aber es liegt die Vermutung vor, dass Menschen, der LGBTQ+ Community eher von den untersuchten, psychischen Erkrankungen betroffen sind, als heterosexuelle Menschen."
   ],
   "metadata": {
    "collapsed": false
   }
  },
  {
   "cell_type": "code",
   "execution_count": null,
   "outputs": [],
   "source": [
    "'''\n",
    "gender_depression_counts.plot(kind='bar', stacked=True)\n",
    "plt.title('Verteilung der Depressionsschweregrade nach Geschlecht')\n",
    "plt.xlabel('Depressionsschweregrade')\n",
    "plt.ylabel('Anteil')\n",
    "plt.legend(title='Geschlecht', loc='center left', bbox_to_anchor=(1, 0.5))\n",
    "\n",
    "gender_anxiety_counts.plot(kind='bar', stacked=True)\n",
    "plt.title('Verteilung der Angstschweregrade nach Geschlecht')\n",
    "plt.xlabel('Angstschweregrade')\n",
    "plt.ylabel('Anteil')\n",
    "plt.legend(title='Geschlecht', loc='center left', bbox_to_anchor=(1, 0.5))\n",
    "\n",
    "gender_stress_counts.plot(kind='bar', stacked=True)\n",
    "plt.title('Verteilung der Stressschweregrade nach Geschlecht')\n",
    "plt.xlabel('Stressschweregrade')\n",
    "plt.ylabel('Anteil')\n",
    "plt.legend(title='Geschlecht', loc='center left', bbox_to_anchor=(1, 0.5))\n",
    "\n",
    "plt.show()'''\n"
   ],
   "metadata": {
    "collapsed": false
   }
  },
  {
   "cell_type": "code",
   "execution_count": null,
   "outputs": [],
   "source": [
    "\n",
    "'''gender_depression_counts.plot(kind='bar', stacked=True)\n",
    "plt.title('Verteilung der Depressionsschweregrade nach Geschlecht')\n",
    "plt.xlabel('Geschlecht')\n",
    "plt.ylabel('Anteil')\n",
    "\n",
    "gender_anxiety_counts.plot(kind='bar', stacked=True)\n",
    "plt.title('Verteilung der Angstschweregrade nach Geschlecht')\n",
    "plt.xlabel('Geschlecht')\n",
    "plt.ylabel('Anteil')\n",
    "\n",
    "gender_stress_counts.plot(kind='bar', stacked=True)\n",
    "plt.title('Verteilung der Stressschweregrade nach Geschlecht')\n",
    "plt.xlabel('Geschlecht')\n",
    "plt.ylabel('Anteil')\n",
    "\n",
    "plt.show()'''\n"
   ],
   "metadata": {
    "collapsed": false
   }
  },
  {
   "cell_type": "code",
   "execution_count": null,
   "outputs": [],
   "source": [
    "\n",
    "gender_depression_counts = gender_depression_counts.div(gender_depression_counts.sum(axis=1), axis=0)\n",
    "gender_anxiety_counts = gender_anxiety_counts.div(gender_anxiety_counts.sum(axis=1), axis=0)\n",
    "gender_stress_counts = gender_stress_counts.div(gender_stress_counts.sum(axis=1), axis=0)\n",
    "gender_depression_counts.plot(kind='bar', stacked=True)\n",
    "plt.title('Verteilung der Depressionsschweregrade nach Geschlecht')\n",
    "plt.xlabel('Depressionsschweregrade')\n",
    "plt.ylabel('Anteil')\n",
    "plt.legend(title='Geschlecht', loc='center left', bbox_to_anchor=(1, 0.5))\n",
    "\n",
    "gender_anxiety_counts.plot(kind='bar', stacked=True)\n",
    "plt.title('Verteilung der Angstschweregrade nach Geschlecht')\n",
    "plt.xlabel('Angstschweregrade')\n",
    "plt.ylabel('Anteil')\n",
    "plt.legend(title='Geschlecht', loc='center left', bbox_to_anchor=(1, 0.5))\n",
    "\n",
    "gender_stress_counts.plot(kind='bar', stacked=True)\n",
    "plt.title('Verteilung der Stressschweregrade nach Geschlecht')\n",
    "plt.xlabel('Stressschweregrade')\n",
    "plt.ylabel('Anteil')\n",
    "plt.legend(title='Geschlecht', loc='center left', bbox_to_anchor=(1, 0.5))\n",
    "\n",
    "plt.show()"
   ],
   "metadata": {
    "collapsed": false
   }
  },
  {
   "cell_type": "markdown",
   "source": [
    "## Balkenspaltendiagrammananlyse Geschlechter\n",
    "Innerhalb der Geschlechter, zieht sich eine ähnliche Verteilung innerhalb der 3 Balkenspaltendiagramme durch. Die Männer leiden in einem geringerem Ausmaß an Depressionen, Stress und Angstzustännden, als Frauen und diverse Menschen. Frauen und diverse Menschen weisen auf den ersten Blick einen relativ ähnlichen Anteil innerhalb der Kategorien an pschischen Erkrankungen auf. Jedoch ist auffällig, dass die Kategorie \"Moderate\" bei den Frauen fast immer größer als bei diversen Menschen ist und dahingegen die Kategorie \"Severe\" höher ist bei diversen Menschen, was darauf schließen lässt, dass diese Gruppe eher von psychischen Erkrankungen betroffen ist."
   ],
   "metadata": {
    "collapsed": false
   }
  },
  {
   "cell_type": "code",
   "execution_count": null,
   "outputs": [],
   "source": [
    "orientations_depression_counts=orientations_depression_counts.div(orientations_depression_counts.sum(axis=1), axis=0)\n",
    "orientations_anxiety_counts = orientations_anxiety_counts.div(orientations_anxiety_counts.sum(axis=1), axis=0)\n",
    "orientations_stress_counts = orientations_stress_counts.div(orientations_stress_counts.sum(axis=1), axis=0)\n",
    "orientations_depression_counts.plot(kind='bar', stacked=True)\n",
    "plt.title('Verteilung der Depressionsschweregrade nach sexueller Orientierung')\n",
    "plt.xlabel('Depressionsschweregrade')\n",
    "plt.ylabel('Anteil in %')\n",
    "#labels=['Heterosexuel','Bisexuell','Homosexuell','Asexuell','Anderes']\n",
    "#plt.xticks(range(len(labels)), labels)\n",
    "plt.legend(title='Sexuelle Orientierung', loc='center left', bbox_to_anchor=(1, 0.5))\n",
    "\n",
    "orientations_anxiety_counts.plot(kind='bar', stacked=True)\n",
    "plt.title('Verteilung der Angstschweregrade nach sexueller Orientierung')\n",
    "plt.xlabel('Angstschweregrade')\n",
    "plt.ylabel('Anteil')\n",
    "plt.legend(title='Sexuelle Orientierung', loc='center left', bbox_to_anchor=(1, 0.5))\n",
    "\n",
    "orientations_stress_counts.plot(kind='bar', stacked=True)\n",
    "plt.title('Verteilung der Stressschweregrade nach sexueller Orientierung')\n",
    "plt.xlabel('Stressschweregrade')\n",
    "plt.ylabel('Anteil')\n",
    "plt.legend(title='Sexuelle Orientierung', loc='center left', bbox_to_anchor=(1, 0.5))\n",
    "\n",
    "plt.show()"
   ],
   "metadata": {
    "collapsed": false
   }
  },
  {
   "cell_type": "markdown",
   "source": [],
   "metadata": {
    "collapsed": false
   }
  },
  {
   "cell_type": "code",
   "execution_count": null,
   "outputs": [],
   "source": [
    "male_depression = data[data['gender'] == 1]['Depression']\n",
    "female_depression = data[data['gender'] == 2]['Depression']\n",
    "neutral_depression = data[data['gender'] == 0]['Depression']\n",
    "depression_values = [male_depression,female_depression, neutral_depression]\n",
    "fig, ax = plt.subplots()\n",
    "ax.boxplot(depression_values, vert=False)\n",
    "\n",
    "ax.set_yticklabels(['Male', 'Female', 'Other'])\n",
    "ax.set_ylabel('Depressionswert')\n",
    "plt.show()"
   ],
   "metadata": {
    "collapsed": false
   }
  },
  {
   "cell_type": "code",
   "execution_count": null,
   "outputs": [],
   "source": [
    "male_depression = gender_depression_counts.loc['Männlich'].dropna()\n",
    "female_depression = gender_depression_counts.loc['Weiblich'].dropna()\n",
    "neutral_depression = gender_depression_counts.loc['Anderes'].dropna()\n",
    "depression_values = [male_depression, female_depression, neutral_depression]\n",
    "fig, ax = plt.subplots()\n",
    "ax.boxplot(depression_values)\n",
    "ax.set_xticklabels(['Männlich', 'Weiblich', 'Divers'])\n",
    "ax.set_ylabel('Depressionswert')\n",
    "plt.show()"
   ],
   "metadata": {
    "collapsed": false
   }
  },
  {
   "cell_type": "code",
   "execution_count": null,
   "outputs": [],
   "source": [
    "sns.violinplot(data=data, x=gender, y='Depression', inner='quartile')\n",
    "plt.title('Verteilung der Depressionen nach Geschlecht')\n",
    "plt.xlabel('Geschlecht')\n",
    "plt.ylabel('Depression')\n",
    "plt.show()"
   ],
   "metadata": {
    "collapsed": false
   }
  },
  {
   "cell_type": "code",
   "execution_count": null,
   "outputs": [],
   "source": [
    "Heterosexual_depression = data[data['orientation']==1]['Depression']\n",
    "Homosexual_depression = data[data['orientation'] == 3]['Depression']\n",
    "Oth_depression = data[data['orientation'] == 5]['Depression']\n",
    "Bisexual_depression = data[data['orientation'] == 2]['Depression']\n",
    "Asexual_depression = data[data['orientation'] == 4]['Depression']\n",
    "Not_def_depression=data[data['orientation'] == 0]['Depression']\n",
    "depression_values = [Heterosexual_depression, Homosexual_depression, Oth_depression,Bisexual_depression, Asexual_depression,Not_def_depression]\n",
    "fig, ax = plt.subplots()\n",
    "ax.boxplot(depression_values, vert=False)\n",
    "ax.set_yticklabels(['Heterosexuell', 'Homosexuell', 'Anderes','Bisexuell', 'Asexuell','Nicht beantwortet'])\n",
    "ax.set_xlabel('Sexualität')\n",
    "ax.set_ylabel('Depressionswert')\n",
    "plt.show()"
   ],
   "metadata": {
    "collapsed": false
   }
  },
  {
   "cell_type": "code",
   "execution_count": null,
   "outputs": [],
   "source": [
    "data_orientation = data[['Depression', 'orientation']]\n",
    "sns.violinplot(x=orientations.values, y='Depression', data=data)\n",
    "plt.title('Depressionswerte nach sexueller Orientierung')\n",
    "plt.xlabel('Sexuelle Orientierung')\n",
    "plt.ylabel('Depressionswert')\n",
    "plt.show()"
   ],
   "metadata": {
    "collapsed": false
   }
  },
  {
   "cell_type": "code",
   "execution_count": null,
   "outputs": [],
   "source": [],
   "metadata": {
    "collapsed": false
   }
  }
 ],
 "metadata": {
  "kernelspec": {
   "display_name": "Python 3",
   "language": "python",
   "name": "python3"
  },
  "language_info": {
   "codemirror_mode": {
    "name": "ipython",
    "version": 2
   },
   "file_extension": ".py",
   "mimetype": "text/x-python",
   "name": "python",
   "nbconvert_exporter": "python",
   "pygments_lexer": "ipython2",
   "version": "2.7.6"
  }
 },
 "nbformat": 4,
 "nbformat_minor": 0
}
