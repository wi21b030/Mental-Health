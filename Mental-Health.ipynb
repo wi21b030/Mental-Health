{
 "cells": [
  {
   "cell_type": "markdown",
   "source": [
    "## Importierung von packages"
   ],
   "metadata": {
    "collapsed": false
   }
  },
  {
   "cell_type": "code",
   "execution_count": null,
   "outputs": [],
   "source": [
    "try:\n",
    "    import pymongo as mdb\n",
    "    import csv\n",
    "    import pandas as pd\n",
    "except ImportError:\n",
    "    !pip3 install csv\n",
    "    import pymongo as mdb\n",
    "    import csv\n",
    "    import pandas as pd"
   ],
   "metadata": {
    "collapsed": false
   }
  },
  {
   "cell_type": "markdown",
   "source": [
    "## Die Verbindung wird aufgebildet"
   ],
   "metadata": {
    "collapsed": false
   }
  },
  {
   "cell_type": "code",
   "execution_count": null,
   "outputs": [],
   "source": [
    "try:\n",
    "    client = mdb.MongoClient(\"mongodb://pt-n20.p4001.w3.cs.technikum-wien.at:4001\")\n",
    "\n",
    "    db = client.mental_health_db\n",
    "    collection = db.survey\n",
    "\n",
    "    if 'mental_health_db' in client.list_database_names():\n",
    "        print('Connected to database')\n",
    "    if 'survey' in db.list_collection_names():\n",
    "        print('Connected to collection')\n",
    "except mdb.errors.ConnectionFailure as e:"
   ],
   "metadata": {
    "collapsed": false
   }
  },
  {
   "cell_type": "markdown",
   "source": [
    "## CSV-Daten auf der MongoDB-Datenbank hochladen"
   ],
   "metadata": {
    "collapsed": false
   }
  },
  {
   "cell_type": "code",
   "execution_count": null,
   "outputs": [],
   "source": [
    "'''data = pd.read_csv('db/data.csv', delimiter='\\t')\n",
    "keys = data.columns.tolist()\n",
    "data_dict = data.to_dict('records')\n",
    "for item in data_dict:\n",
    "    record = {}\n",
    "    for key in keys:\n",
    "        record[key] = item[key]\n",
    "    collection.insert_one(record)'''"
   ],
   "metadata": {
    "collapsed": false
   }
  },
  {
   "cell_type": "markdown",
   "source": [
    "## Abfrage"
   ],
   "metadata": {
    "collapsed": false
   }
  },
  {
   "cell_type": "code",
   "execution_count": null,
   "outputs": [],
   "source": [
    "cursor = collection.find({})\n",
    "data = pd.DataFrame(list(cursor))\n",
    "\n",
    "data = data.drop('_id', axis=1)\n",
    "print(data)"
   ],
   "metadata": {
    "collapsed": false
   }
  },
  {
   "cell_type": "code",
   "execution_count": null,
   "outputs": [],
   "source": [
    "print(data.Q1A)"
   ],
   "metadata": {
    "collapsed": false
   }
  },
  {
   "cell_type": "code",
   "execution_count": null,
   "outputs": [],
   "source": [
    "client.close()"
   ],
   "metadata": {
    "collapsed": false
   }
  }
 ],
 "metadata": {
  "kernelspec": {
   "display_name": "Python 3",
   "language": "python",
   "name": "python3"
  },
  "language_info": {
   "codemirror_mode": {
    "name": "ipython",
    "version": 2
   },
   "file_extension": ".py",
   "mimetype": "text/x-python",
   "name": "python",
   "nbconvert_exporter": "python",
   "pygments_lexer": "ipython2",
   "version": "2.7.6"
  }
 },
 "nbformat": 4,
 "nbformat_minor": 0
}
