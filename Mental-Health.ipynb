{
 "cells": [
  {
   "cell_type": "markdown",
   "source": [
    "## Importierung von packages"
   ],
   "metadata": {
    "collapsed": false
   }
  },
  {
   "cell_type": "code",
   "execution_count": 3,
   "outputs": [],
   "source": [
    "try:\n",
    "    import pymongo as mdb\n",
    "    import csv\n",
    "    import pandas as pd\n",
    "except ImportError:\n",
    "    !pip3 install csv\n",
    "    import pymongo as mdb\n",
    "    import csv\n",
    "    import pandas as pd\n",
    "\n"
   ],
   "metadata": {
    "collapsed": false
   }
  },
  {
   "cell_type": "markdown",
   "source": [
    "## Die Verbindung wird aufgebildet"
   ],
   "metadata": {
    "collapsed": false
   }
  },
  {
   "cell_type": "code",
   "execution_count": 9,
   "metadata": {
    "collapsed": true
   },
   "outputs": [
    {
     "name": "stdout",
     "output_type": "stream",
     "text": [
      "Connected to database\n",
      "Connected to collection\n"
     ]
    }
   ],
   "source": [
    "try:\n",
    "    client = mdb.MongoClient(\"mongodb://pt-n20.p4001.w3.cs.technikum-wien.at:4001\")\n",
    "\n",
    "    db = client.mental_health_db\n",
    "    collection = db.survey\n",
    "\n",
    "    if 'mental_health_db' in client.list_database_names():\n",
    "        print('Connected to database')\n",
    "    if 'survey' in db.list_collection_names():\n",
    "        print('Connected to collection')\n",
    "except mdb.errors.ConnectionFailure as e:\n",
    "    print(e)\n"
   ]
  },
  {
   "cell_type": "markdown",
   "source": [
    "## CSV-Daten auf der MongoDB-Datenbank hochladen"
   ],
   "metadata": {
    "collapsed": false
   }
  },
  {
   "cell_type": "code",
   "execution_count": null,
   "outputs": [],
   "source": [
    "'''data = pd.read_csv('db/data.csv', delimiter='\\t')\n",
    "keys = data.columns.tolist()\n",
    "data_dict = data.to_dict('records')\n",
    "for item in data_dict:\n",
    "    record = {}\n",
    "    for key in keys:\n",
    "        record[key] = item[key]\n",
    "    collection.insert_one(record)'''"
   ],
   "metadata": {
    "collapsed": false,
    "pycharm": {
     "is_executing": true
    }
   }
  },
  {
   "cell_type": "markdown",
   "source": [],
   "metadata": {
    "collapsed": false
   }
  },
  {
   "cell_type": "code",
   "execution_count": 12,
   "outputs": [
    {
     "name": "stdout",
     "output_type": "stream",
     "text": [
      "       Q1A  Q1I    Q1E  Q2A  Q2I   Q2E  Q3A  Q3I    Q3E  Q4A  ...  screensize  \\\n",
      "0        4   28   3890    4   25  2122    2   16   1944    4  ...           1   \n",
      "1        4    2   8118    1   36  2890    2   35   4777    3  ...           2   \n",
      "2        3    7   5784    1   33  4373    4   41   3242    1  ...           2   \n",
      "3        2   23   5081    3   11  6837    2   37   5521    1  ...           2   \n",
      "4        2   36   3215    2   13  7731    3    5   4156    4  ...           2   \n",
      "...    ...  ...    ...  ...  ...   ...  ...  ...    ...  ...  ...         ...   \n",
      "39770    2   31   3287    1    5  2216    3   29   3895    2  ...           2   \n",
      "39771    3   14   4792    4   41  2604    3   15   2668    4  ...           1   \n",
      "39772    2    1  25147    1    4  4555    2   14   3388    1  ...           2   \n",
      "39773    3   36   4286    1   34  2736    2   10   5968    2  ...           2   \n",
      "39774    2   28  32251    1   22  3317    2    4  11734    1  ...           1   \n",
      "\n",
      "       uniquenetworklocation  hand  religion  orientation  race  voted  \\\n",
      "0                          1     1        12            1    10      2   \n",
      "1                          1     2         7            0    70      2   \n",
      "2                          1     1         4            3    60      1   \n",
      "3                          1     2         4            5    70      2   \n",
      "4                          2     3        10            1    10      2   \n",
      "...                      ...   ...       ...          ...   ...    ...   \n",
      "39770                      1     1         2            4    60      2   \n",
      "39771                      1     1        10            0    10      2   \n",
      "39772                      1     1         7            1    30      1   \n",
      "39773                      1     1         6            1    60      1   \n",
      "39774                      1     1        10            1    10      1   \n",
      "\n",
      "       married  familysize              major  \n",
      "0            1           2                NaN  \n",
      "1            1           4                NaN  \n",
      "2            1           3                NaN  \n",
      "3            1           5            biology  \n",
      "4            1           4         Psychology  \n",
      "...        ...         ...                ...  \n",
      "39770        1           2                NaN  \n",
      "39771        1           4         Mathematic  \n",
      "39772        2           3   Computer Science  \n",
      "39773        1           2            History  \n",
      "39774        1           4  Cognitive Science  \n",
      "\n",
      "[39775 rows x 172 columns]\n"
     ]
    }
   ],
   "source": [
    "cursor = collection.find({})\n",
    "data = pd.DataFrame(list(cursor))\n",
    "\n",
    "data = data.drop('_id', axis=1)\n",
    "print(data)\n"
   ],
   "metadata": {
    "collapsed": false
   }
  },
  {
   "cell_type": "code",
   "execution_count": 14,
   "outputs": [
    {
     "name": "stdout",
     "output_type": "stream",
     "text": [
      "0        4\n",
      "1        4\n",
      "2        3\n",
      "3        2\n",
      "4        2\n",
      "        ..\n",
      "39770    2\n",
      "39771    3\n",
      "39772    2\n",
      "39773    3\n",
      "39774    2\n",
      "Name: Q1A, Length: 39775, dtype: int64\n"
     ]
    }
   ],
   "source": [
    "print(data.Q1A)"
   ],
   "metadata": {
    "collapsed": false
   }
  },
  {
   "cell_type": "code",
   "execution_count": 63,
   "outputs": [],
   "source": [
    "client.close()"
   ],
   "metadata": {
    "collapsed": false
   }
  }
 ],
 "metadata": {
  "kernelspec": {
   "display_name": "Python 3",
   "language": "python",
   "name": "python3"
  },
  "language_info": {
   "codemirror_mode": {
    "name": "ipython",
    "version": 2
   },
   "file_extension": ".py",
   "mimetype": "text/x-python",
   "name": "python",
   "nbconvert_exporter": "python",
   "pygments_lexer": "ipython2",
   "version": "2.7.6"
  }
 },
 "nbformat": 4,
 "nbformat_minor": 0
}
