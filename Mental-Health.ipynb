{
 "cells": [
  {
   "cell_type": "markdown",
   "source": [
    "# Mentale Gesundheit: Eine Reise durch die Psyche\n",
    "\n",
    "## Eine Reise durch die Psyche: Wie Daten uns helfen können, mentale Gesundheit zu verstehen\n",
    "\n",
    "## 1 - Einleitung\n",
    "Depressionen, Angstzustände und Stress sind in unserer modernen Gesellschaft allgegenwärtig und betreffen Menschen jeden Alters, Geschlechts und Hintergrunds. Obwohl es viele Ressourcen gibt, die versuchen, das Bewusstsein für diese Themen zu schärfen, bleibt ihre Ursache größtenteils unbekannt. Eine Möglichkeit, mehr über diese Phänomene zu erfahren, besteht darin, die Daten der Depression Anxiety Stress Scales (DASS) zu nutzen, die zwischen 2017 und 2019 gesammelt wurden. Die DASS-Umfrage ist ein standardisierter Fragebogen, der darauf abzielt, Depressionen, Angstzustände und Stress bei Befragten zu messen. Entwickelt wurde der psychometrische Fragebogen von Dr. Peter Lovibond und Dr. Stephen Lovibond und besteht aus 42 Fragen, die jeweils von 1 bis 4 skaliert sind. Die Bewertungsmöglichkeiten sind unten abgebildet und bilden ab, ob die Frage sehr stark auf die befragte Person zutrifft (4 Apply to me very much, or most of the time) oder gar keine Übereinstimmung it der Frage vorhanden ist (1 Did not apply to me at all)\n",
    "\n",
    "![DASS-Skala](db/demo1.png)\n",
    "\n",
    "\n",
    "## 2 - Ziel des Notebooks\n",
    "Analyse der DASS-Umfrageergebnisse und Untersuchung potenzieller Faktoren, die mit Depressionen, Angstzuständen und Stress assoziiert sind. Besonders im Vordergrund stehen Vorurteile, die es gegenüber Depressionen und ähnlichen Krankheiten gibt in Hinblick auf das Geschlecht und die Herkunft. . Ist es tatsächlich so, dass Frauen eher an einer Depression leiden? Trifft Menschen mit einem akademischen Abschluss eine Depression seltener, weil er wahrscheinlich ein höheres Gehalt verspricht oder ist das nur Schein? Gibt es einen Zusammenhang zwischen Depressionen und Herkunft? Auf diese und ähnliche Fragen wird in der Analyse eingegangen.\n",
    "\n",
    "## 3 - Methodik\n",
    "\n",
    "Wie bereits unter dem Punkt Einleitung angemerkt, wurden die Daten wurden durch eine Online-Version der DASS-Umfrage von 2017 bis 2019 gesammelt. Dadurch ist ein aussagekräftiges Ergebnis von fast 40.000 Daten entstanden. Ebenfalls schon erwähnt wurde die Skalierung durch die DASS-Umfrage, wodurch eine Bewertung der Ergebnisse ermöglicht wird. Insgesamt standen 42 Fragen zur Verfügung, die durch die Bewertung beantwortet werden mussten. Allerdings wurden nicht nur die Antworten gespeichert, sondern auch einerseits die Geschwindigkeit, in der diese beantwortet wurden und andererseits die Stelle, an der sie gefragt wurden, weil jeder Befragte eine zufällige Anordnung der Fragen erhalten hat. Darauffolgend wurde der TEN-ITEM PERSONALITY INVENTORY-(TIPI) durchgeführt, welcher Persönlichkeitseigenschaften analysiert. Bei dieser Umfrage stehen 10 Charaktereigenschaften zur Verfügung, die erneut skaliert und beantwortet werden müssen, wobei es hier 7 Bewertungsmöglichkeiten gibt.\n",
    "\n",
    "![TIPI](db/TIPI.png)\n",
    "\n",
    "Zuguterletzt wurden die Stammdaten der Teilnehmer befragt, welche Daten, wie Geschlecht, Alter, Herkunft enthalten.\n",
    "\n",
    "![Stammdaten](db/Stammdaten.png)\n",
    "\n",
    "Die Umfrage war für jeden offen, und die Teilnehmer waren motiviert, sie auszufüllen, um personalisierte Ergebnisse zu erhalten.\n",
    "Die Daten, die in dieser Analyse verwendet wurden, wurden von Personen gesammelt, die einer Forschungsumfrage zugestimmt und ihre Daten für Forschungszwecke zur Verfügung gestellt haben.\n",
    "Die Analyse wird basierend auf den Antworten zu jeder Frage sowie den demografischen und technischen Informationen durchgeführt, die von den Teilnehmern bereitgestellt wurden. Insgesamt hat es\n",
    "\n",
    "Durch die Analyse der Daten der DASS-Umfrage hoffen wir, Einblicke in die Faktoren zu gewinnen, die mit Depressionen, Angstzuständen und Stress assoziiert sind. Diese Erkenntnisse könnten dazu beitragen, Präventions- und Behandlungsansätze zu entwickeln, um das Leben von Menschen, die von diesen Zuständen betroffen sind, zu verbessern. Idealerweise kann dadurch eine Entstigmatisierung von psychischen Krankheiten erreicht werden.\n",
    "\n",
    "## 4 - Projektstruktur\n",
    "\n",
    "### Setup\n",
    "\n",
    "![Architektur](db/Projekt-Architektur.png)\n",
    "\n",
    "Für das Projekt werden auf den lokalen Rechnern Conda für die Python-Execution, DataSpell als IDE und je nach Projektmitglied teilweise MongoDB Compass oder DataGrip als GUI verwendet, um einen einfacheren Einblick zum Datenbank-Server zu erhalten. Die Datenbank selbst ist eine MongoDB Instanz, welche am FHTW-Server gehostet wird. Dadurch sind die Daten zentral für alle Teammitglieder zugänglich. Zusätzlich gibt es auf GitHub ein Repository, welches alle wichtigen Files sowie dieses Notebook selbst beinhaltet, um allen Mitgliedern des Teams die simultane Bearbeitung zu ermöglichen.\n",
    "\n",
    "### Komponente und Versionen\n",
    "\n",
    "- Conda: 22.9\n",
    "- Python: 3.9\n",
    "- Pymongo: 4.3.3\n",
    "- Pandas: 1.4.4\n",
    "- Matplotlib: 3.5.2\n",
    "- Numpy: 1.21.5"
   ],
   "metadata": {
    "collapsed": false
   }
  },
  {
   "cell_type": "markdown",
   "source": [
    "## 5 - Datenimport und -export"
   ],
   "metadata": {
    "collapsed": false
   }
  },
  {
   "cell_type": "markdown",
   "source": [
    "Bevor wir nun den Datensatz analysieren können, müssen wir die Daten zur Datenbank hochladen, um sie später weiterhin zentral zur Verfügung zu haben. Dafür müssen wir einige Python Packages installieren, die DB-Verbindung einrichten und anschließend den Datensatz in einem Pandas-Dataframe speichern."
   ],
   "metadata": {
    "collapsed": false
   }
  },
  {
   "cell_type": "markdown",
   "source": [
    "### Import von Packages"
   ],
   "metadata": {
    "collapsed": false
   }
  },
  {
   "cell_type": "code",
   "execution_count": null,
   "outputs": [],
   "source": [
    "try:\n",
    "    import pymongo as mdb\n",
    "    import csv\n",
    "    import pandas as pd\n",
    "    import matplotlib.pyplot as plt\n",
    "    import numpy as np\n",
    "except ImportError:\n",
    "    !pip3 install pymongo\n",
    "    !pip3 install python-csv\n",
    "    !pip3 install pandas\n",
    "    !pip3 install numpy\n",
    "    import pymongo as mdb\n",
    "    import csv\n",
    "    import pandas as pd\n",
    "    import matplotlib.pyplot as plt\n",
    "    import numpy as np"
   ],
   "metadata": {
    "collapsed": false,
    "ExecuteTime": {
     "start_time": "2023-04-28T19:24:24.059331Z",
     "end_time": "2023-04-28T19:24:24.090999Z"
    }
   }
  },
  {
   "cell_type": "markdown",
   "source": [
    "### Die Verbindung zum MongoDB-Server wird eingerichtet"
   ],
   "metadata": {
    "collapsed": false
   }
  },
  {
   "cell_type": "code",
   "execution_count": null,
   "outputs": [],
   "source": [
    "try:\n",
    "    client = mdb.MongoClient(\"mongodb://pt-n20.p4001.w3.cs.technikum-wien.at:4001\")\n",
    "\n",
    "    db = client.mental_health_db\n",
    "    collection = db.survey\n",
    "\n",
    "    if 'mental_health_db' in client.list_database_names():\n",
    "        print('Connected to database')\n",
    "    if 'survey' in db.list_collection_names():\n",
    "        print('Connected to collection')\n",
    "except mdb.errors.ConnectionFailure as e:\n",
    "    print(e)"
   ],
   "metadata": {
    "collapsed": false,
    "ExecuteTime": {
     "start_time": "2023-04-28T19:31:14.559755Z",
     "end_time": "2023-04-28T19:31:14.623348Z"
    }
   }
  },
  {
   "cell_type": "markdown",
   "source": [
    "### CSV-Datensatz hochladen"
   ],
   "metadata": {
    "collapsed": false
   }
  },
  {
   "cell_type": "markdown",
   "source": [
    "Die Daten wurden mithilfe des Codes, den man darunter sieht, auf den Server hochgeladen und anschließend auskommentiert, damit dies nicht unabsichtlich wieder ausgeführt werden kann."
   ],
   "metadata": {
    "collapsed": false
   }
  },
  {
   "cell_type": "code",
   "execution_count": null,
   "outputs": [],
   "source": [
    "'''data = pd.read_csv('db/data.csv', delimiter='\\t')\n",
    "keys = data.columns.tolist()\n",
    "data_dict = data.to_dict('records')\n",
    "for item in data_dict:\n",
    "    record = {}\n",
    "    for key in keys:\n",
    "        record[key] = item[key]\n",
    "    collection.insert_one(record)'''"
   ],
   "metadata": {
    "collapsed": false,
    "ExecuteTime": {
     "start_time": "2023-04-28T19:24:28.785002Z",
     "end_time": "2023-04-28T19:24:28.843928Z"
    }
   }
  },
  {
   "cell_type": "markdown",
   "source": [
    "### Daten vom Server abfragen und in Pandas Dataframe speichern"
   ],
   "metadata": {
    "collapsed": false
   }
  },
  {
   "cell_type": "code",
   "execution_count": null,
   "outputs": [],
   "source": [
    "cursor = collection.find({})\n",
    "data = pd.DataFrame(list(cursor))\n",
    "data = data.drop('_id', axis=1)\n",
    "client.close()"
   ],
   "metadata": {
    "collapsed": false,
    "ExecuteTime": {
     "start_time": "2023-04-28T19:31:17.360613Z",
     "end_time": "2023-04-28T19:31:35.658186Z"
    }
   }
  },
  {
   "cell_type": "markdown",
   "source": [
    "#### Alternativ falls der Server nicht funktioniert von lokaler CSV-Datei abfragen"
   ],
   "metadata": {
    "collapsed": false
   }
  },
  {
   "cell_type": "code",
   "execution_count": null,
   "outputs": [],
   "source": [
    "# data = pd.read_csv('db/data.csv', delimiter='\\t')"
   ],
   "metadata": {
    "collapsed": false,
    "ExecuteTime": {
     "start_time": "2023-04-28T19:24:49.696715Z",
     "end_time": "2023-04-28T19:24:49.712302Z"
    }
   }
  },
  {
   "cell_type": "code",
   "execution_count": null,
   "outputs": [],
   "source": [
    "print(data)"
   ],
   "metadata": {
    "collapsed": false,
    "ExecuteTime": {
     "start_time": "2023-04-28T19:31:38.758274Z",
     "end_time": "2023-04-28T19:31:38.800595Z"
    }
   }
  },
  {
   "cell_type": "markdown",
   "source": [
    "## 6 - Demografische Analyse des Datensatzes"
   ],
   "metadata": {
    "collapsed": false
   }
  },
  {
   "cell_type": "markdown",
   "source": [
    "Wir fangen damit an, den Datensatz zu analysieren, um einen Überblick zu bekommen."
   ],
   "metadata": {
    "collapsed": false
   }
  },
  {
   "cell_type": "code",
   "execution_count": null,
   "outputs": [],
   "source": [
    "data.info()"
   ],
   "metadata": {
    "collapsed": false,
    "ExecuteTime": {
     "start_time": "2023-04-26T12:02:18.475906Z",
     "end_time": "2023-04-26T12:02:18.538839Z"
    }
   }
  },
  {
   "cell_type": "code",
   "execution_count": null,
   "outputs": [],
   "source": [
    "data.describe()"
   ],
   "metadata": {
    "collapsed": false,
    "ExecuteTime": {
     "start_time": "2023-04-26T12:02:19.720273Z",
     "end_time": "2023-04-26T12:02:20.051751Z"
    }
   }
  },
  {
   "cell_type": "markdown",
   "source": [
    "Konkret jedoch wollen wir wissen, welche Personen haben an dieser Umfrage teilgenommen und welche Merkmale machen diesen Datensatz aus. Dafür verschaffen wir uns einen deskriptiven Überblick zu folgenden Kategorien des Datensatzes:\n",
    "\n",
    "- Ausbildung\n",
    "- Gegend\n",
    "- Geschlecht\n",
    "- Englisch als Muttersprache\n",
    "- Alter\n",
    "- Händigkeit\n",
    "- Religion\n",
    "- Sexuelle Orientation\n",
    "- Ethnie\n",
    "- Gewählt\n",
    "- Verheiratet\n",
    "- Familiengröße\n",
    "- Studienfach"
   ],
   "metadata": {
    "collapsed": false
   }
  },
  {
   "cell_type": "markdown",
   "source": [
    "### Ausbildung"
   ],
   "metadata": {
    "collapsed": false
   }
  },
  {
   "cell_type": "code",
   "execution_count": null,
   "outputs": [],
   "source": [
    "education = data['education'].map({0: 'Did Not Answer', 1: 'Less than highschool', 2: 'Highschool', 3: 'University degree', 4: 'Graduate degree'})\n",
    "education_percent = education.value_counts(normalize=True) * 100\n",
    "ax = education_percent.plot(kind='bar')\n",
    "ax.set_xlabel('Education')\n",
    "ax.set_ylabel('Percentage')\n",
    "ax.set_yticklabels(['{:,.1f}%'.format(x) for x in ax.get_yticks()])\n",
    "for i, v in enumerate(education_percent):\n",
    "    ax.text(i, v+0.5, '{:.1f}%'.format(v), ha='center')\n",
    "plt.show()"
   ],
   "metadata": {
    "collapsed": false,
    "ExecuteTime": {
     "start_time": "2023-04-26T12:02:24.295557Z",
     "end_time": "2023-04-26T12:02:24.714964Z"
    }
   }
  },
  {
   "cell_type": "markdown",
   "source": [
    "Wir sehen, dass ungefähr 38% der Teilnehmer*Innen einen Bachelor-Abschluss, knapp darunter 37.9% einen Highschool-Abschluss, 12.6% einen Master-Abschluss und 10.2% die Highschool nicht abgeschlossen haben. Im Datensatz haben 1.3% jeweils keine Antwort zu dieser Frage gegeben."
   ],
   "metadata": {
    "collapsed": false
   }
  },
  {
   "cell_type": "markdown",
   "source": [
    "### Gegend"
   ],
   "metadata": {
    "collapsed": false
   }
  },
  {
   "cell_type": "code",
   "execution_count": null,
   "outputs": [],
   "source": [
    "urban = data['urban'].map({0: 'Did Not Answer', 1: 'Rural', 2: 'Suburban', 3: 'Urban'})\n",
    "urban_percent = urban.value_counts(normalize=True) * 100\n",
    "ax = urban_percent.plot(kind='pie', autopct='%.1f%%')\n",
    "ax.set_title('Percentage Distribution of Category Urban')\n",
    "plt.show()"
   ],
   "metadata": {
    "collapsed": false,
    "ExecuteTime": {
     "start_time": "2023-04-26T12:03:42.860682Z",
     "end_time": "2023-04-26T12:03:42.955976Z"
    }
   }
  },
  {
   "cell_type": "markdown",
   "source": [
    "Das Diagramm zeigt die prozentuale Verteilung der Antworten auf die Frage nach dem Wohnort. Die größte Gruppe der Befragten (44,9%) lebt in städtischen Gebieten, gefolgt von der Gruppe der Vorortbewohner (33,3%) und der Gruppe der Landbewohner (20,9%). Nur eine sehr kleine Gruppe (1%) hat keine Antwort auf die Frage gegeben."
   ],
   "metadata": {
    "collapsed": false
   }
  },
  {
   "cell_type": "markdown",
   "source": [
    "### Geschlecht"
   ],
   "metadata": {
    "collapsed": false
   }
  },
  {
   "cell_type": "code",
   "execution_count": null,
   "outputs": [],
   "source": [
    "gender = data['gender'].map({0: 'Other', 1: 'Male', 2: 'Female'})\n",
    "gender_percent = gender.value_counts(normalize=True) * 100\n",
    "ax = gender_percent.plot(kind='bar')\n",
    "ax.set_xlabel('Gender')\n",
    "ax.set_ylabel('Percentage')\n",
    "ax.set_yticklabels(['{:,.1f}%'.format(x) for x in ax.get_yticks()])\n",
    "for i, v in enumerate(gender_percent):\n",
    "    ax.text(i, v+0.5, '{:.1f}%'.format(v), ha='center')\n",
    "plt.show()"
   ],
   "metadata": {
    "collapsed": false,
    "ExecuteTime": {
     "start_time": "2023-04-26T12:03:44.082033Z",
     "end_time": "2023-04-26T12:03:44.186499Z"
    }
   }
  },
  {
   "cell_type": "markdown",
   "source": [
    "Überraschenderweise sind 77.4% der Personen, die an der Umfrage teilgenommen haben, Frauen. Im Gegensatz dazu beträgt der Anteil der Männer 22.4% und die der anderen Geschlechter 0.2%."
   ],
   "metadata": {
    "collapsed": false
   }
  },
  {
   "cell_type": "markdown",
   "source": [
    "### Englisch als Muttersprache"
   ],
   "metadata": {
    "collapsed": false
   }
  },
  {
   "cell_type": "code",
   "execution_count": null,
   "outputs": [],
   "source": [
    "engnat = data['engnat'].map({1: 'Yes', 2: 'No'})\n",
    "engnat_percent = engnat.value_counts(normalize=True) * 100\n",
    "ax = engnat_percent.plot(kind='pie', autopct='%.1f%%')\n",
    "ax.set_title('Percentage Distribution of English Native Speakers')\n",
    "plt.show()"
   ],
   "metadata": {
    "collapsed": false,
    "ExecuteTime": {
     "start_time": "2023-04-26T12:03:45.400970Z",
     "end_time": "2023-04-26T12:03:45.495103Z"
    }
   }
  },
  {
   "cell_type": "markdown",
   "source": [
    "In unserem Datensatz haben 63.8% Englisch nicht als Muttersprache und 36.2% hingegen schon."
   ],
   "metadata": {
    "collapsed": false
   }
  },
  {
   "cell_type": "markdown",
   "source": [
    "### Alter"
   ],
   "metadata": {
    "collapsed": false
   }
  },
  {
   "cell_type": "code",
   "execution_count": null,
   "outputs": [],
   "source": [
    "age_groups = pd.cut(data['age'], bins=[0, 17, 34, 54, 64, 150], labels=['0-17', '18-34', '35-54', '55-64', '65+'])\n",
    "age_group_percent = age_groups.value_counts(normalize=True) * 100\n",
    "ax = age_group_percent.plot(kind='bar')\n",
    "ax.set_xlabel('Age')\n",
    "ax.set_ylabel('Percentage')\n",
    "ax.set_yticklabels(['{:,.1f}%'.format(x) for x in ax.get_yticks()])\n",
    "for i, v in enumerate(age_group_percent):\n",
    "    ax.text(i, v+0.5, '{:.1f}%'.format(v), ha='center')\n",
    "plt.show()"
   ],
   "metadata": {
    "collapsed": false,
    "ExecuteTime": {
     "start_time": "2023-04-26T12:03:47.313657Z",
     "end_time": "2023-04-26T12:03:47.408264Z"
    }
   }
  },
  {
   "cell_type": "markdown",
   "source": [
    "Wir gruppieren das Alter sinnvoll und erhalten folgende Prozentsätze für die Altersgruppen:\n",
    "\n",
    "- 0-17: 18.3%\n",
    "- 18-34: 72.9%\n",
    "- 35-54: 7.3%\n",
    "- 55-64: 1.3%\n",
    "- 65+: 0.3%"
   ],
   "metadata": {
    "collapsed": false
   }
  },
  {
   "cell_type": "markdown",
   "source": [
    "### Händigeit\n",
    "Es wird untersucht, wie viel Prozent der Befragten Linkshänder, Rechtshänder beziehungsweise beidhändig sind. In einem ersten Schritt werden die Daten einfach ausgegeben."
   ],
   "metadata": {
    "collapsed": false
   }
  },
  {
   "cell_type": "code",
   "execution_count": null,
   "outputs": [],
   "source": [
    "hand = data['hand'].map({2:'Linkshänder',1:'Rechtshänder',3:'Beidhändig'})\n",
    "\n",
    "hand_percent=hand.value_counts(normalize=True)*100\n",
    "\n",
    "print(hand_percent)\n"
   ],
   "metadata": {
    "collapsed": false,
    "ExecuteTime": {
     "start_time": "2023-04-26T12:03:54.008456Z",
     "end_time": "2023-04-26T12:03:54.019968Z"
    }
   }
  },
  {
   "cell_type": "markdown",
   "source": [
    "In einem zweiten Schritt wird zur Veranschaulichung ein Balkendiagramm erstellt, welches das Verhältnis zwischen Linkshändern,\n",
    "Rechtshändern und Beidhändigen aufzeigt."
   ],
   "metadata": {
    "collapsed": false
   }
  },
  {
   "cell_type": "code",
   "execution_count": null,
   "outputs": [],
   "source": [
    "labels = ['Linkshänder', 'Rechtshänder', 'Beidhändig']\n",
    "values = [hand_percent.Linkshänder, hand_percent.Rechtshänder, hand_percent.Beidhändig]\n",
    "\n",
    "plt.bar(labels, values)\n",
    "plt.title('Händigkeit')\n",
    "plt.xlabel('Hand')\n",
    "plt.ylabel('Prozent')\n",
    "plt.show()"
   ],
   "metadata": {
    "collapsed": false,
    "ExecuteTime": {
     "start_time": "2023-04-26T12:03:56.297151Z",
     "end_time": "2023-04-26T12:03:56.369455Z"
    }
   }
  },
  {
   "cell_type": "markdown",
   "source": [
    "### Religion\n",
    "Es wird untersucht, wie das Religionsbekenntnis unter den Befragten verteilt ist. In einem ersten Schritt werden die Daten einfach ausgegeben."
   ],
   "metadata": {
    "collapsed": false
   }
  },
  {
   "cell_type": "code",
   "execution_count": null,
   "outputs": [],
   "source": [
    "religions = data['religion'].map({1:'Agnostiker',2:'Atheisten', 3:'Buddhisten', 4:'Christen(Katholisch)',\n",
    "            5:'Christ(Mormonen)',6: 'Christen(Protestanten)', 7:'Christen(Anderes)', 8:'Hindus',9: 'Juden', 10:'Muslime', 11:'Sikh',12: 'Andere'})\n",
    "\n",
    "rel_percent=religions.value_counts(normalize=True)*100\n",
    "print(rel_percent)"
   ],
   "metadata": {
    "collapsed": false,
    "ExecuteTime": {
     "start_time": "2023-04-26T12:03:58.641503Z",
     "end_time": "2023-04-26T12:03:58.651570Z"
    }
   }
  },
  {
   "cell_type": "markdown",
   "source": [
    "In einem zweiten Schritt wird zur Veranschaulichung ein Kreisdiagramm erstellt, was das Verhältnis der einzelnen Religionen zueinander unter den Befragten aufzeigt."
   ],
   "metadata": {
    "collapsed": false
   }
  },
  {
   "cell_type": "code",
   "execution_count": null,
   "outputs": [],
   "source": [
    "plt.pie(rel_percent, labels=rel_percent.index, autopct='%1.2f%%', textprops={'fontsize': 12})\n",
    "plt.legend(bbox_to_anchor=(2.2,0.5), loc=\"center right\", fontsize=12)\n",
    "plt.title('Religionen')\n",
    "plt.show()"
   ],
   "metadata": {
    "collapsed": false,
    "ExecuteTime": {
     "start_time": "2023-04-26T12:04:00.224906Z",
     "end_time": "2023-04-26T12:04:00.409389Z"
    }
   }
  },
  {
   "cell_type": "markdown",
   "source": [
    "### Sexuelle Orientierung\n",
    "Es wird untersucht, wie die sexuelle Orientierung unter den Befragten verteilt ist. In einem ersten Schritt werden die Daten einfach ausgegeben."
   ],
   "metadata": {
    "collapsed": false
   }
  },
  {
   "cell_type": "code",
   "execution_count": null,
   "outputs": [],
   "source": [
    "orientations = data['orientation'].map({1:'Heterosexuell', 2:'Bisexuell',3: 'Homosexuell',4: 'Asexuell',5: 'Anderes'})\n",
    "orientations_percent=orientations.value_counts(normalize=True)*100\n",
    "\n",
    "print(orientations_percent)"
   ],
   "metadata": {
    "collapsed": false,
    "ExecuteTime": {
     "start_time": "2023-04-26T12:04:02.488459Z",
     "end_time": "2023-04-26T12:04:02.504124Z"
    }
   }
  },
  {
   "cell_type": "markdown",
   "source": [
    "In einem zweiten Schritt wird zur Veranschaulichung ein Kreisdiagramm erstellt, welches das Verhältnis der einzelnen Religionen zueinander unter den Befragten aufzeigt."
   ],
   "metadata": {
    "collapsed": false
   }
  },
  {
   "cell_type": "code",
   "execution_count": null,
   "outputs": [],
   "source": [
    "labels = ['Heterosexuell', 'Bisexuell', 'Homosexuell', 'Asexuell', 'Anderes']\n",
    "values = [orientations_percent.Heterosexuell,orientations_percent.Bisexuell, orientations_percent.Homosexuell, orientations_percent.Asexuell,orientations_percent.Anderes]\n",
    "\n",
    "fig1, ax1 = plt.subplots()\n",
    "ax1.pie(values, labels=labels, autopct='%1.1f%%', startangle=90)\n",
    "ax1.axis('equal')  # Equal aspect ratio ensures that pie is drawn as a circle.\n",
    "plt.title('Sexuelle Orientierung')\n",
    "plt.show()"
   ],
   "metadata": {
    "collapsed": false,
    "ExecuteTime": {
     "start_time": "2023-04-26T12:04:51.701379Z",
     "end_time": "2023-04-26T12:04:51.792519Z"
    }
   }
  },
  {
   "cell_type": "markdown",
   "source": [
    "### Ethnische Gruppen\n",
    "Es wird untersucht, was für eine Verteilung der Ethnischen Gruppen vorliegt. In einem ersten Schritt werden die Daten einfach ausgegeben."
   ],
   "metadata": {
    "collapsed": false
   }
  },
  {
   "cell_type": "code",
   "execution_count": null,
   "outputs": [],
   "source": [
    "races = data['race'].map({10: \"Asiaten\", 20: \"Araber\", 30: \"Schwarze\", 40: \"IndigeneBevölkerungAustraliens\", 50: \"IndigeneBevölkerungAmerikas\", 60: \"Weiße\", 70: \"Anderes\"})\n",
    "races_percent=races.value_counts(normalize=True)*100\n",
    "\n",
    "print(races_percent)"
   ],
   "metadata": {
    "collapsed": false,
    "ExecuteTime": {
     "start_time": "2023-04-26T12:04:06.284324Z",
     "end_time": "2023-04-26T12:04:06.299951Z"
    }
   }
  },
  {
   "cell_type": "markdown",
   "source": [],
   "metadata": {
    "collapsed": false
   }
  },
  {
   "cell_type": "markdown",
   "source": [
    "In einem zweiten Schritt wird zur Veranschaulichung ein Balkendiagramm erstellt, welches das Verhältnis der einzelnen Ethnischen Gruppen zueinander unter den Befragten aufzeigt."
   ],
   "metadata": {
    "collapsed": false
   }
  },
  {
   "cell_type": "code",
   "execution_count": null,
   "outputs": [],
   "source": [
    "labels = ['Asiaten','Araber','Schwarze','Indigene Bevölkerung Australiens','Indigene Bevölkerung  Amerikas','Weiße', 'Anderes']\n",
    "values = [races_percent.Asiaten,races_percent.Araber, races_percent.Schwarze, races_percent.IndigeneBevölkerungAustraliens,\n",
    "          races_percent.IndigeneBevölkerungAmerikas, races_percent.Weiße,races_percent.Anderes]\n",
    "plt.bar(labels, values)\n",
    "plt.xlabel(\"Ethnische Gruppe\")\n",
    "plt.ylabel(\"Anzahl\")\n",
    "plt.title(\"Verteilung Ethnischer Gruppen\")\n",
    "plt.xticks(rotation=45, ha='right')\n",
    "plt.show()"
   ],
   "metadata": {
    "collapsed": false,
    "ExecuteTime": {
     "start_time": "2023-04-26T12:04:13.318852Z",
     "end_time": "2023-04-26T12:04:13.413404Z"
    }
   }
  },
  {
   "cell_type": "code",
   "execution_count": null,
   "outputs": [],
   "source": [
    "voted = data['voted']\n",
    "unique_values_voted = list(set(voted))\n",
    "print(unique_values_voted)"
   ],
   "metadata": {
    "collapsed": false,
    "ExecuteTime": {
     "start_time": "2023-04-26T12:04:18.855674Z",
     "end_time": "2023-04-26T12:04:18.934071Z"
    }
   }
  },
  {
   "cell_type": "code",
   "execution_count": null,
   "outputs": [],
   "source": [
    "value_counts_voted =voted.value_counts()"
   ],
   "metadata": {
    "collapsed": false,
    "ExecuteTime": {
     "start_time": "2023-04-26T12:04:19.759384Z",
     "end_time": "2023-04-26T12:04:19.789180Z"
    }
   }
  },
  {
   "cell_type": "code",
   "execution_count": null,
   "outputs": [],
   "source": [
    "for value, count in value_counts_voted.items():\n",
    "    print(f'{value}: {count}')"
   ],
   "metadata": {
    "collapsed": false,
    "ExecuteTime": {
     "start_time": "2023-04-26T12:04:21.511328Z",
     "end_time": "2023-04-26T12:04:21.513337Z"
    }
   }
  },
  {
   "cell_type": "code",
   "execution_count": null,
   "outputs": [],
   "source": [
    "value_counts_voted = voted.value_counts()\n",
    "plt.pie(value_counts_voted, labels=['No','Yes','Did Not Answer'], autopct='%1.1f%%',colors=['red','cyan','violet'])\n",
    "plt.show()"
   ],
   "metadata": {
    "collapsed": false,
    "ExecuteTime": {
     "start_time": "2023-04-26T12:04:23.479074Z",
     "end_time": "2023-04-26T12:04:23.554350Z"
    }
   }
  },
  {
   "cell_type": "code",
   "execution_count": null,
   "outputs": [],
   "source": [
    "married = data['married'].dropna()\n",
    "unique_values_married = list(set(married))\n",
    "print(unique_values_married)\n"
   ],
   "metadata": {
    "collapsed": false,
    "ExecuteTime": {
     "start_time": "2023-04-26T12:04:25.065083Z",
     "end_time": "2023-04-26T12:04:25.128169Z"
    }
   }
  },
  {
   "cell_type": "code",
   "execution_count": null,
   "outputs": [],
   "source": [
    "value_counts_married = married.value_counts()"
   ],
   "metadata": {
    "collapsed": false,
    "ExecuteTime": {
     "start_time": "2023-04-26T12:04:25.400580Z",
     "end_time": "2023-04-26T12:04:25.432282Z"
    }
   }
  },
  {
   "cell_type": "code",
   "execution_count": null,
   "outputs": [],
   "source": [
    "for value, count in value_counts_married.items():\n",
    "    print(f'{value} : {count}')"
   ],
   "metadata": {
    "collapsed": false,
    "ExecuteTime": {
     "start_time": "2023-04-26T12:04:27.268179Z",
     "end_time": "2023-04-26T12:04:27.283694Z"
    }
   }
  },
  {
   "cell_type": "code",
   "execution_count": null,
   "outputs": [],
   "source": [
    "married_dict = {0: 'Did Not Answer', 1: 'Never married', 2: 'Currently married', 3: 'Previously married'}\n",
    "\n",
    "married_legend = data['married'].replace(married_dict)\n",
    "\n",
    "married_counts = married_legend.value_counts()\n",
    "\n",
    "married_percent = married_counts * 100 / married_counts.sum()\n",
    "\n",
    "ax = married_percent.plot(kind='bar', color=['red','orange','cyan','grey'])\n",
    "ax.set_xlabel('Marital Status')\n",
    "ax.set_ylabel('Percentage')\n",
    "ax.set_yticks(range(0, 101, 10))\n",
    "ax.set_yticklabels(['{:,.1f}%'.format(x) for x in range(0, 101, 10)])\n",
    "for i, v in enumerate(married_percent):\n",
    "    ax.text(i, v+0.5, '{:.1f}%'.format(v), ha='center')\n",
    "plt.show()\n"
   ],
   "metadata": {
    "collapsed": false,
    "ExecuteTime": {
     "start_time": "2023-04-26T12:04:31.955554Z",
     "end_time": "2023-04-26T12:04:32.077454Z"
    }
   }
  },
  {
   "cell_type": "code",
   "execution_count": null,
   "outputs": [],
   "source": [
    "family_size = data['familysize'].dropna()\n",
    "\n",
    "family_size = family_size.apply(lambda x: '8+' if isinstance(x, int) and x >= 8 else str(x))\n",
    "\n",
    "labels = ['0', '1', '2', '3', '4', '5', '6', '7', '8+']\n",
    "plt.pie(family_size.value_counts(), labels=labels, autopct='%1.1f%%', colors=['grey', 'cyan', 'violet', 'red', 'orange', 'blue', 'pink', 'green', 'brown'])\n",
    "plt.title('Family Size Distribution')\n",
    "plt.show()\n"
   ],
   "metadata": {
    "collapsed": false,
    "ExecuteTime": {
     "start_time": "2023-04-26T12:04:33.849325Z",
     "end_time": "2023-04-26T12:04:33.963810Z"
    }
   }
  },
  {
   "cell_type": "code",
   "execution_count": null,
   "outputs": [],
   "source": [
    "#major = data['major']\n",
    "#unique_values_major = list(set(major))\n",
    "#print(unique_values_major)\n",
    "# - Wir sehen, dass die Daten nicht vollständig sind und man kann nur mit Nan und nicht nan Werte eine Analyse machen"
   ],
   "metadata": {
    "collapsed": false,
    "ExecuteTime": {
     "start_time": "2023-04-26T12:04:35.627804Z",
     "end_time": "2023-04-26T12:04:35.643454Z"
    }
   }
  },
  {
   "cell_type": "code",
   "execution_count": null,
   "outputs": [],
   "source": [
    "data['major_category'] = data['major'].apply(lambda x: 'Non-NaN' if x is not None and x == x else 'NaN')\n",
    "\n",
    "major_counts = data['major_category'].value_counts()\n",
    "\n",
    "major_percent = major_counts * 100 / major_counts.sum()\n",
    "\n",
    "major_percent.plot(kind='pie', autopct='%1.1f%%')\n",
    "plt.title('Non-NaN and NaN values in Major')\n",
    "plt.ylabel('')\n",
    "plt.show()"
   ],
   "metadata": {
    "collapsed": false,
    "ExecuteTime": {
     "start_time": "2023-04-26T12:04:37.326097Z",
     "end_time": "2023-04-26T12:04:37.460808Z"
    }
   }
  },
  {
   "cell_type": "markdown",
   "source": [
    "## DASS-Scores berechnen"
   ],
   "metadata": {
    "collapsed": false
   }
  },
  {
   "cell_type": "code",
   "execution_count": 58,
   "outputs": [
    {
     "name": "stdout",
     "output_type": "stream",
     "text": [
      "Index(['Q1A', 'Q1I', 'Q1E', 'Q2A', 'Q2I', 'Q2E', 'Q3A', 'Q3I', 'Q3E', 'Q4A',\n",
      "       ...\n",
      "       'religion', 'orientation', 'race', 'voted', 'married', 'familysize',\n",
      "       'major', 'Depression', 'Anxiety', 'Stress'],\n",
      "      dtype='object', length=175)\n",
      "       Q1A  Q1I    Q1E  Q2A  Q2I   Q2E  Q3A  Q3I    Q3E  Q4A  ...  religion  \\\n",
      "0        4   28   3890    4   25  2122    2   16   1944    4  ...        12   \n",
      "1        4    2   8118    1   36  2890    2   35   4777    3  ...         7   \n",
      "2        3    7   5784    1   33  4373    4   41   3242    1  ...         4   \n",
      "3        2   23   5081    3   11  6837    2   37   5521    1  ...         4   \n",
      "4        2   36   3215    2   13  7731    3    5   4156    4  ...        10   \n",
      "...    ...  ...    ...  ...  ...   ...  ...  ...    ...  ...  ...       ...   \n",
      "39770    2   31   3287    1    5  2216    3   29   3895    2  ...         2   \n",
      "39771    3   14   4792    4   41  2604    3   15   2668    4  ...        10   \n",
      "39772    2    1  25147    1    4  4555    2   14   3388    1  ...         7   \n",
      "39773    3   36   4286    1   34  2736    2   10   5968    2  ...         6   \n",
      "39774    2   28  32251    1   22  3317    2    4  11734    1  ...        10   \n",
      "\n",
      "       orientation  race  voted  married  familysize              major  \\\n",
      "0                1    10      2        1           2                NaN   \n",
      "1                0    70      2        1           4                NaN   \n",
      "2                3    60      1        1           3                NaN   \n",
      "3                5    70      2        1           5            biology   \n",
      "4                1    10      2        1           4         Psychology   \n",
      "...            ...   ...    ...      ...         ...                ...   \n",
      "39770            4    60      2        1           2                NaN   \n",
      "39771            0    10      2        1           4         Mathematic   \n",
      "39772            1    30      1        2           3   Computer Science   \n",
      "39773            1    60      1        1           2            History   \n",
      "39774            1    10      1        1           4  Cognitive Science   \n",
      "\n",
      "       Depression  Anxiety  Stress  \n",
      "0              27       34      40  \n",
      "1              24       17      27  \n",
      "2              39       12      17  \n",
      "3              16       17      16  \n",
      "4              32       40      29  \n",
      "...           ...      ...     ...  \n",
      "39770          36       12      15  \n",
      "39771          38       34      34  \n",
      "39772           4        1       5  \n",
      "39773          16       13      33  \n",
      "39774          27       10      16  \n",
      "\n",
      "[39775 rows x 175 columns]\n"
     ]
    }
   ],
   "source": [
    "question_category_map = {\n",
    "    'Q3A': 'Depression',\n",
    "    'Q5A': 'Depression',\n",
    "    'Q10A': 'Depression',\n",
    "    'Q13A': 'Depression',\n",
    "    'Q16A': 'Depression',\n",
    "    'Q17A': 'Depression',\n",
    "    'Q21A': 'Depression',\n",
    "    'Q24A': 'Depression',\n",
    "    'Q26A': 'Depression',\n",
    "    'Q31A': 'Depression',\n",
    "    'Q34A': 'Depression',\n",
    "    'Q37A': 'Depression',\n",
    "    'Q38A': 'Depression',\n",
    "    'Q42A': 'Depression',\n",
    "    'Q2A': 'Anxiety',\n",
    "    'Q4A': 'Anxiety',\n",
    "    'Q7A': 'Anxiety',\n",
    "    'Q9A': 'Anxiety',\n",
    "    'Q15A': 'Anxiety',\n",
    "    'Q19A': 'Anxiety',\n",
    "    'Q20A': 'Anxiety',\n",
    "    'Q23A': 'Anxiety',\n",
    "    'Q25A': 'Anxiety',\n",
    "    'Q28A': 'Anxiety',\n",
    "    'Q30A': 'Anxiety',\n",
    "    'Q36A': 'Anxiety',\n",
    "    'Q40A': 'Anxiety',\n",
    "    'Q41A': 'Anxiety',\n",
    "    'Q1A': 'Stress',\n",
    "    'Q6A': 'Stress',\n",
    "    'Q8A': 'Stress',\n",
    "    'Q11A': 'Stress',\n",
    "    'Q12A': 'Stress',\n",
    "    'Q14A': 'Stress',\n",
    "    'Q18A': 'Stress',\n",
    "    'Q22A': 'Stress',\n",
    "    'Q27A': 'Stress',\n",
    "    'Q29A': 'Stress',\n",
    "    'Q32A': 'Stress',\n",
    "    'Q33A': 'Stress',\n",
    "    'Q35A': 'Stress',\n",
    "    'Q39A': 'Stress'\n",
    "}\n",
    "\n",
    "print(data.columns)\n",
    "\n",
    "depression_cols = ['Q3A', 'Q5A', 'Q10A', 'Q13A', 'Q16A', 'Q17A', 'Q21A', 'Q24A', 'Q26A', 'Q31A', 'Q34A', 'Q37A', 'Q38A', 'Q42A']\n",
    "anxiety_cols = ['Q2A', 'Q4A', 'Q7A', 'Q9A', 'Q15A', 'Q19A', 'Q20A', 'Q23A', 'Q25A', 'Q28A', 'Q30A', 'Q36A', 'Q40A', 'Q41A']\n",
    "stress_cols = ['Q1A', 'Q6A', 'Q8A', 'Q11A', 'Q12A', 'Q14A', 'Q18A', 'Q22A', 'Q27A', 'Q29A', 'Q32A', 'Q33A', 'Q35A', 'Q39A']\n",
    "data['Depression'] = data[depression_cols].sum(axis=1)-14\n",
    "data['Anxiety'] = data[anxiety_cols].sum(axis=1)-14\n",
    "data['Stress'] = data[stress_cols].sum(axis=1)-14\n",
    "\n",
    "print(data)"
   ],
   "metadata": {
    "collapsed": false,
    "ExecuteTime": {
     "start_time": "2023-04-28T19:43:44.107793Z",
     "end_time": "2023-04-28T19:43:44.305711Z"
    }
   }
  },
  {
   "cell_type": "code",
   "execution_count": 57,
   "outputs": [
    {
     "data": {
      "text/plain": "<Figure size 640x480 with 1 Axes>",
      "image/png": "[encoded data removed]"
     },
     "metadata": {},
     "output_type": "display_data"
    }
   ],
   "source": [
    "data.boxplot(column='Depression', vert=False)\n",
    "\n",
    "# show the plot\n",
    "plt.show()"
   ],
   "metadata": {
    "collapsed": false,
    "ExecuteTime": {
     "start_time": "2023-04-28T19:42:40.282764Z",
     "end_time": "2023-04-28T19:42:40.408586Z"
    }
   }
  },
  {
   "cell_type": "code",
   "execution_count": null,
   "outputs": [],
   "source": [],
   "metadata": {
    "collapsed": false
   }
  }
 ],
 "metadata": {
  "kernelspec": {
   "display_name": "Python 3",
   "language": "python",
   "name": "python3"
  },
  "language_info": {
   "codemirror_mode": {
    "name": "ipython",
    "version": 2
   },
   "file_extension": ".py",
   "mimetype": "text/x-python",
   "name": "python",
   "nbconvert_exporter": "python",
   "pygments_lexer": "ipython2",
   "version": "2.7.6"
  }
 },
 "nbformat": 4,
 "nbformat_minor": 0
}
